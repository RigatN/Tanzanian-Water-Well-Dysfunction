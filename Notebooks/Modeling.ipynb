{
 "cells": [
  {
   "cell_type": "markdown",
   "metadata": {},
   "source": [
    "### Modeling Notebook"
   ]
  },
  {
   "cell_type": "code",
   "execution_count": 1,
   "metadata": {},
   "outputs": [],
   "source": [
    "import pandas as pd \n",
    "import numpy as np \n",
    "from sklearn.model_selection import train_test_split, GridSearchCV, cross_validate, cross_val_score\n",
    "from sklearn.preprocessing import OneHotEncoder, StandardScaler, PolynomialFeatures , LabelEncoder\n",
    "from sklearn.impute import SimpleImputer\n",
    "from sklearn.compose import ColumnTransformer, make_column_selector as selector\n",
    "from sklearn.linear_model import LogisticRegression, Ridge\n",
    "from sklearn.pipeline import Pipeline\n",
    "from sklearn.metrics import ConfusionMatrixDisplay, confusion_matrix\n",
    "\n",
    "### Model Validation:\n",
    "from sklearn.metrics import accuracy_score, precision_score, recall_score,balanced_accuracy_score\n",
    "from sklearn.metrics import precision_recall_fscore_support, f1_score, classification_report\n",
    "from sklearn.metrics import roc_curve, RocCurveDisplay, log_loss\n",
    "from sklearn.utils.class_weight import compute_class_weight\n",
    "from sklearn.model_selection import cross_val_score, cross_validate, KFold, StratifiedKFold\n",
    "import seaborn as sns\n",
    "from sklearn.dummy import DummyClassifier\n",
    "from sklearn.impute import SimpleImputer\n",
    "from imblearn.over_sampling import SMOTE\n",
    "import matplotlib.pyplot as plt\n",
    "from sklearn.base import BaseEstimator, TransformerMixin\n",
    "from imblearn.pipeline import Pipeline as ImPipeline\n",
    "\n",
    "from sklearn.ensemble import RandomForestClassifier\n",
    "\n",
    "import pickle\n",
    "import joblib\n",
    "\n",
    "### Suppress Warnings:\n",
    "import warnings\n",
    "warnings.filterwarnings('ignore')\n",
    "\n"
   ]
  },
  {
   "cell_type": "code",
   "execution_count": 2,
   "metadata": {},
   "outputs": [],
   "source": [
    "featurs=features =pd.read_csv('../Data/clean_data.csv' , index_col=0)"
   ]
  },
  {
   "cell_type": "code",
   "execution_count": 3,
   "metadata": {},
   "outputs": [
    {
     "name": "stdout",
     "output_type": "stream",
     "text": [
      "<class 'pandas.core.frame.DataFrame'>\n",
      "Int64Index: 50142 entries, 0 to 59399\n",
      "Data columns (total 24 columns):\n",
      " #   Column                 Non-Null Count  Dtype  \n",
      "---  ------                 --------------  -----  \n",
      " 0   amount_tsh             16558 non-null  float64\n",
      " 1   funder                 50142 non-null  object \n",
      " 2   gps_height             34219 non-null  float64\n",
      " 3   longitude              50142 non-null  float64\n",
      " 4   latitude               50142 non-null  float64\n",
      " 5   num_private            718 non-null    float64\n",
      " 6   basin                  50142 non-null  object \n",
      " 7   region_code            50142 non-null  int64  \n",
      " 8   district_code          50142 non-null  int64  \n",
      " 9   lga                    50142 non-null  object \n",
      " 10  population             33264 non-null  float64\n",
      " 11  public_meeting         50142 non-null  bool   \n",
      " 12  permit                 50142 non-null  bool   \n",
      " 13  extraction_type        50142 non-null  object \n",
      " 14  extraction_type_class  50142 non-null  object \n",
      " 15  management             50142 non-null  object \n",
      " 16  payment_type           50142 non-null  object \n",
      " 17  water_quality          50142 non-null  object \n",
      " 18  quantity               50142 non-null  object \n",
      " 19  source                 50142 non-null  object \n",
      " 20  source_class           50142 non-null  object \n",
      " 21  waterpoint_type        50142 non-null  object \n",
      " 22  status_group           50142 non-null  object \n",
      " 23  age_waterpoint         50142 non-null  int64  \n",
      "dtypes: bool(2), float64(6), int64(3), object(13)\n",
      "memory usage: 8.9+ MB\n"
     ]
    }
   ],
   "source": [
    "features.info()"
   ]
  },
  {
   "cell_type": "markdown",
   "metadata": {},
   "source": [
    "our target column is status_group\n",
    "\n",
    "    0 Funcional\n",
    "    1 Functional , needs repair\n",
    "    2 non functional\n"
   ]
  },
  {
   "cell_type": "code",
   "execution_count": 4,
   "metadata": {
    "scrolled": true
   },
   "outputs": [
    {
     "data": {
      "text/plain": [
       "functional                 0.547146\n",
       "non functional             0.386622\n",
       "functional needs repair    0.066232\n",
       "Name: status_group, dtype: float64"
      ]
     },
     "execution_count": 4,
     "metadata": {},
     "output_type": "execute_result"
    }
   ],
   "source": [
    "features.status_group.value_counts(normalize=True)"
   ]
  },
  {
   "cell_type": "code",
   "execution_count": 5,
   "metadata": {},
   "outputs": [],
   "source": [
    "#casting the data type of region and district code to object , they needed to be catagorical\n",
    "features['region_code'] = features['region_code'].astype('O')\n",
    "features['district_code'] = features['district_code'].astype('O')"
   ]
  },
  {
   "cell_type": "code",
   "execution_count": 6,
   "metadata": {},
   "outputs": [],
   "source": [
    "#numerical and catagorical columns\n",
    "cat_columns=list(features.select_dtypes(include='O').columns)\n",
    "num_columns=list(features.select_dtypes(exclude='O').columns)"
   ]
  },
  {
   "cell_type": "code",
   "execution_count": 7,
   "metadata": {},
   "outputs": [],
   "source": [
    "cat_columns.remove('status_group')"
   ]
  },
  {
   "cell_type": "code",
   "execution_count": 8,
   "metadata": {},
   "outputs": [],
   "source": [
    "# create features and target\n",
    "X = features.drop('status_group', axis=1)\n",
    "y = features.status_group\n",
    "\n",
    "encoder = LabelEncoder()\n",
    "y_transorm = encoder.fit_transform(y)\n",
    "\n",
    "#y_transorm=pd.get_dummies(y , drop_first=True)\n",
    "\n",
    "\n",
    "# split into train and test sets\n",
    "X_train, X_test, y_train, y_test = train_test_split(X, y_transorm, test_size=0.2, random_state=42)"
   ]
  },
  {
   "cell_type": "code",
   "execution_count": 9,
   "metadata": {},
   "outputs": [
    {
     "data": {
      "text/plain": [
       "array([0, 0, 2, ..., 0, 0, 0])"
      ]
     },
     "execution_count": 9,
     "metadata": {},
     "output_type": "execute_result"
    }
   ],
   "source": [
    "y_transorm"
   ]
  },
  {
   "cell_type": "markdown",
   "metadata": {},
   "source": [
    "#### Column transform"
   ]
  },
  {
   "cell_type": "code",
   "execution_count": 10,
   "metadata": {},
   "outputs": [],
   "source": [
    "num_pipeline = Pipeline(steps=[\n",
    "    ('num_impute', SimpleImputer(strategy='median' ,add_indicator=True)),\n",
    "    ('ss', StandardScaler())\n",
    "])\n",
    "\n",
    "cat_pipeline = Pipeline(steps=[\n",
    "    ('impute_cat', SimpleImputer(strategy='most_frequent')),\n",
    "    ('ohe', OneHotEncoder(handle_unknown='ignore',sparse=True))\n",
    "])"
   ]
  },
  {
   "cell_type": "code",
   "execution_count": 11,
   "metadata": {},
   "outputs": [],
   "source": [
    "col_trans=ColumnTransformer(transformers=[\n",
    "    ('nums', num_pipeline, num_columns),\n",
    "    ('cats', cat_pipeline, cat_columns)\n",
    "], remainder='passthrough', n_jobs=-1)"
   ]
  },
  {
   "cell_type": "code",
   "execution_count": 12,
   "metadata": {},
   "outputs": [
    {
     "data": {
      "text/plain": [
       "array([0, 1, 2, ..., 2, 0, 2])"
      ]
     },
     "execution_count": 12,
     "metadata": {},
     "output_type": "execute_result"
    }
   ],
   "source": [
    "y_train"
   ]
  },
  {
   "cell_type": "markdown",
   "metadata": {},
   "source": [
    "### Logistic regression"
   ]
  },
  {
   "cell_type": "code",
   "execution_count": 124,
   "metadata": {},
   "outputs": [
    {
     "data": {
      "text/plain": [
       "Pipeline(steps=[('colt',\n",
       "                 ColumnTransformer(n_jobs=-1, remainder='passthrough',\n",
       "                                   transformers=[('nums',\n",
       "                                                  Pipeline(steps=[('num_impute',\n",
       "                                                                   SimpleImputer(add_indicator=True,\n",
       "                                                                                 strategy='median')),\n",
       "                                                                  ('ss',\n",
       "                                                                   StandardScaler())]),\n",
       "                                                  ['amount_tsh', 'gps_height',\n",
       "                                                   'longitude', 'latitude',\n",
       "                                                   'num_private', 'population',\n",
       "                                                   'public_meeting', 'permit',\n",
       "                                                   'age_waterpoint']),\n",
       "                                                 ('cats',\n",
       "                                                  Pipeline(steps=[('impute_cat',\n",
       "                                                                   SimpleImputer(strategy='most_frequent')),\n",
       "                                                                  ('ohe',\n",
       "                                                                   OneHotEncoder(handle_unknown='ignore'))]),\n",
       "                                                  ['funder', 'basin',\n",
       "                                                   'region_code',\n",
       "                                                   'district_code', 'lga',\n",
       "                                                   'extraction_type',\n",
       "                                                   'extraction_type_class',\n",
       "                                                   'management', 'payment_type',\n",
       "                                                   'water_quality', 'quantity',\n",
       "                                                   'source', 'source_class',\n",
       "                                                   'waterpoint_type'])])),\n",
       "                ('logreg', LogisticRegression(C=0.1, n_jobs=-1))])"
      ]
     },
     "execution_count": 124,
     "metadata": {},
     "output_type": "execute_result"
    }
   ],
   "source": [
    "# first simple model\n",
    "logreg_pipe = Pipeline([\n",
    "    ('colt', col_trans),\n",
    "    ('logreg', LogisticRegression(C=0.1 ,n_jobs=-1))\n",
    "])\n",
    "\n",
    "logreg_pipe.fit(X_train, y_train)"
   ]
  },
  {
   "cell_type": "code",
   "execution_count": 125,
   "metadata": {
    "scrolled": true
   },
   "outputs": [
    {
     "data": {
      "text/plain": [
       "0.7693266522075137"
      ]
     },
     "execution_count": 125,
     "metadata": {},
     "output_type": "execute_result"
    }
   ],
   "source": [
    "logreg_pipe.score(X_train , y_train)"
   ]
  },
  {
   "cell_type": "markdown",
   "metadata": {},
   "source": [
    "### use class wieght"
   ]
  },
  {
   "cell_type": "code",
   "execution_count": null,
   "metadata": {},
   "outputs": [],
   "source": [
    "'logreg__C': 1,\n",
    " 'logreg__max_iter': 1000,\n",
    " 'logreg__solver': 'liblinear',\n",
    " 'logreg__tol': 0.001"
   ]
  },
  {
   "cell_type": "code",
   "execution_count": 156,
   "metadata": {},
   "outputs": [
    {
     "data": {
      "text/plain": [
       "Pipeline(steps=[('colt',\n",
       "                 ColumnTransformer(n_jobs=-1, remainder='passthrough',\n",
       "                                   transformers=[('nums',\n",
       "                                                  Pipeline(steps=[('num_impute',\n",
       "                                                                   SimpleImputer(add_indicator=True,\n",
       "                                                                                 strategy='median')),\n",
       "                                                                  ('ss',\n",
       "                                                                   StandardScaler())]),\n",
       "                                                  ['amount_tsh', 'gps_height',\n",
       "                                                   'longitude', 'latitude',\n",
       "                                                   'num_private', 'population',\n",
       "                                                   'public_meeting', 'permit',\n",
       "                                                   'age_waterpoint']),\n",
       "                                                 ('cats',\n",
       "                                                  Pipeline(step...\n",
       "                                                                   OneHotEncoder(handle_unknown='ignore'))]),\n",
       "                                                  ['funder', 'basin',\n",
       "                                                   'region_code',\n",
       "                                                   'district_code', 'lga',\n",
       "                                                   'extraction_type',\n",
       "                                                   'extraction_type_class',\n",
       "                                                   'management', 'payment_type',\n",
       "                                                   'water_quality', 'quantity',\n",
       "                                                   'source', 'source_class',\n",
       "                                                   'waterpoint_type'])])),\n",
       "                ('logreg',\n",
       "                 LogisticRegression(C=1, class_weight='balanced', max_iter=1000,\n",
       "                                    n_jobs=-1, solver='liblinear',\n",
       "                                    tol=0.001))])"
      ]
     },
     "execution_count": 156,
     "metadata": {},
     "output_type": "execute_result"
    }
   ],
   "source": [
    "logreg_pipe2 = Pipeline([\n",
    "    ('colt', col_trans),\n",
    "    ('logreg', LogisticRegression(class_weight='balanced' ,C=1 ,n_jobs=-1 , solver='liblinear',max_iter=1000, tol=0.001))\n",
    "])\n",
    "\n",
    "logreg_pipe2.fit(X_train, y_train)"
   ]
  },
  {
   "cell_type": "code",
   "execution_count": 158,
   "metadata": {
    "scrolled": true
   },
   "outputs": [
    {
     "data": {
      "text/plain": [
       "(0.7490838381572059, 0.7397547113371223)"
      ]
     },
     "execution_count": 158,
     "metadata": {},
     "output_type": "execute_result"
    }
   ],
   "source": [
    "logreg_pipe2.score(X_train , y_train) , logreg_pipe2.score(X_test , y_test)"
   ]
  },
  {
   "cell_type": "code",
   "execution_count": 160,
   "metadata": {
    "scrolled": true
   },
   "outputs": [
    {
     "name": "stdout",
     "output_type": "stream",
     "text": [
      "              precision    recall  f1-score   support\n",
      "\n",
      "           0       0.84      0.72      0.77      5523\n",
      "           1       0.27      0.73      0.40       686\n",
      "           2       0.81      0.73      0.77      3820\n",
      "\n",
      "    accuracy                           0.72     10029\n",
      "   macro avg       0.64      0.73      0.65     10029\n",
      "weighted avg       0.79      0.72      0.75     10029\n",
      "\n"
     ]
    }
   ],
   "source": [
    "y_test_predd=logreg_pipe2.predict(X_test)\n",
    "print(classification_report(y_test, y_test_pred)) "
   ]
  },
  {
   "cell_type": "code",
   "execution_count": 217,
   "metadata": {},
   "outputs": [],
   "source": [
    "Log_cv_scores = cross_val_score(logreg_pipe2, X_train, y_train, cv=5, scoring='recall_macro', n_jobs=-1)"
   ]
  },
  {
   "cell_type": "code",
   "execution_count": 218,
   "metadata": {},
   "outputs": [
    {
     "data": {
      "text/plain": [
       "array([0.65757636, 0.64357713, 0.64092842, 0.6489319 , 0.64805132])"
      ]
     },
     "execution_count": 218,
     "metadata": {},
     "output_type": "execute_result"
    }
   ],
   "source": [
    "Log_cv_scores"
   ]
  },
  {
   "cell_type": "code",
   "execution_count": 144,
   "metadata": {},
   "outputs": [],
   "source": [
    "params = {\n",
    "    'logreg__solver': ['liblinear', 'newton-cg', 'lbfgs'],\n",
    "    'logreg__max_iter': [1000],\n",
    "    'logreg__C': [0.001, 0.01, 0.1, 1, 10, 100],\n",
    "    'logreg__tol': [0.001]\n",
    "}\n",
    "\n",
    "binary_search_2 = GridSearchCV(logreg_pipe2, params, n_jobs=6, verbose=2)"
   ]
  },
  {
   "cell_type": "code",
   "execution_count": null,
   "metadata": {},
   "outputs": [],
   "source": []
  },
  {
   "cell_type": "code",
   "execution_count": 145,
   "metadata": {
    "scrolled": false
   },
   "outputs": [
    {
     "name": "stdout",
     "output_type": "stream",
     "text": [
      "Fitting 5 folds for each of 18 candidates, totalling 90 fits\n"
     ]
    },
    {
     "name": "stderr",
     "output_type": "stream",
     "text": [
      "[Parallel(n_jobs=6)]: Using backend LokyBackend with 6 concurrent workers.\n",
      "[Parallel(n_jobs=6)]: Done  29 tasks      | elapsed:   42.5s\n",
      "[Parallel(n_jobs=6)]: Done  90 out of  90 | elapsed:  9.2min finished\n"
     ]
    },
    {
     "data": {
      "text/plain": [
       "GridSearchCV(estimator=Pipeline(steps=[('colt',\n",
       "                                        ColumnTransformer(n_jobs=-1,\n",
       "                                                          remainder='passthrough',\n",
       "                                                          transformers=[('nums',\n",
       "                                                                         Pipeline(steps=[('num_impute',\n",
       "                                                                                          SimpleImputer(add_indicator=True,\n",
       "                                                                                                        strategy='median')),\n",
       "                                                                                         ('ss',\n",
       "                                                                                          StandardScaler())]),\n",
       "                                                                         ['amount_tsh',\n",
       "                                                                          'gps_height',\n",
       "                                                                          'longitude',\n",
       "                                                                          'latitude',\n",
       "                                                                          'num_private',\n",
       "                                                                          'population',\n",
       "                                                                          'public_meeting',\n",
       "                                                                          'permit',\n",
       "                                                                          'age_waterpoint']...\n",
       "                                                                          'extraction_type_class',\n",
       "                                                                          'management',\n",
       "                                                                          'payment_type',\n",
       "                                                                          'water_quality',\n",
       "                                                                          'quantity',\n",
       "                                                                          'source',\n",
       "                                                                          'source_class',\n",
       "                                                                          'waterpoint_type'])])),\n",
       "                                       ('logreg',\n",
       "                                        LogisticRegression(C=0.1,\n",
       "                                                           class_weight='balanced',\n",
       "                                                           n_jobs=-1))]),\n",
       "             n_jobs=6,\n",
       "             param_grid={'logreg__C': [0.001, 0.01, 0.1, 1, 10, 100],\n",
       "                         'logreg__max_iter': [1000],\n",
       "                         'logreg__solver': ['liblinear', 'newton-cg', 'lbfgs'],\n",
       "                         'logreg__tol': [0.001]},\n",
       "             verbose=2)"
      ]
     },
     "execution_count": 145,
     "metadata": {},
     "output_type": "execute_result"
    }
   ],
   "source": [
    "binary_search_2.fit(X_train, y_train)"
   ]
  },
  {
   "cell_type": "code",
   "execution_count": 146,
   "metadata": {},
   "outputs": [],
   "source": [
    "def get_df(grid_search, model_name):\n",
    "    results = grid_search.cv_results_\n",
    "    df = pd.DataFrame({\n",
    "        'Model': model_name,\n",
    "        'Params': results['params'],\n",
    "        'Mean_Test_Score': results['mean_test_score'],\n",
    "        'Rank': results['rank_test_score']\n",
    "    })\n",
    "    return df"
   ]
  },
  {
   "cell_type": "code",
   "execution_count": 154,
   "metadata": {},
   "outputs": [
    {
     "data": {
      "text/plain": [
       "{'logreg__C': 1,\n",
       " 'logreg__max_iter': 1000,\n",
       " 'logreg__solver': 'liblinear',\n",
       " 'logreg__tol': 0.001}"
      ]
     },
     "execution_count": 154,
     "metadata": {},
     "output_type": "execute_result"
    }
   ],
   "source": [
    "binary_df_2 = get_df(grid_search=binary_search_2, model_name='binary_2')\n",
    "binary_df_2.sort_values('Mean_Test_Score', ascending=False).head(1)['Params'].values[0]"
   ]
  },
  {
   "cell_type": "markdown",
   "metadata": {},
   "source": [
    "### Random Forest Classification"
   ]
  },
  {
   "cell_type": "code",
   "execution_count": null,
   "metadata": {},
   "outputs": [],
   "source": []
  },
  {
   "cell_type": "code",
   "execution_count": 79,
   "metadata": {},
   "outputs": [
    {
     "data": {
      "text/plain": [
       "Pipeline(steps=[('colt',\n",
       "                 ColumnTransformer(n_jobs=-1, remainder='passthrough',\n",
       "                                   transformers=[('nums',\n",
       "                                                  Pipeline(steps=[('num_impute',\n",
       "                                                                   SimpleImputer(add_indicator=True,\n",
       "                                                                                 strategy='median')),\n",
       "                                                                  ('ss',\n",
       "                                                                   StandardScaler())]),\n",
       "                                                  ['amount_tsh', 'gps_height',\n",
       "                                                   'longitude', 'latitude',\n",
       "                                                   'num_private', 'population',\n",
       "                                                   'public_meeting', 'permit',\n",
       "                                                   'age_waterpoint']),\n",
       "                                                 ('cats',\n",
       "                                                  Pipeline(step...\n",
       "                                                                   OneHotEncoder(handle_unknown='ignore'))]),\n",
       "                                                  ['funder', 'basin',\n",
       "                                                   'region_code',\n",
       "                                                   'district_code', 'lga',\n",
       "                                                   'extraction_type',\n",
       "                                                   'extraction_type_class',\n",
       "                                                   'management', 'payment_type',\n",
       "                                                   'water_quality', 'quantity',\n",
       "                                                   'source', 'source_class',\n",
       "                                                   'waterpoint_type'])])),\n",
       "                ('logreg',\n",
       "                 RandomForestClassifier(class_weight='balanced',\n",
       "                                        min_samples_leaf=4, min_samples_split=6,\n",
       "                                        random_state=42))])"
      ]
     },
     "execution_count": 79,
     "metadata": {},
     "output_type": "execute_result"
    }
   ],
   "source": [
    "logreg_pipe3 = Pipeline([\n",
    "    ('colt', col_trans),\n",
    "    ('logreg', RandomForestClassifier(class_weight='balanced',min_samples_split=6,min_samples_leaf=4,n_estimators=100, random_state=42))\n",
    "])\n",
    "\n",
    "logreg_pipe3.fit(X_train, y_train)"
   ]
  },
  {
   "cell_type": "code",
   "execution_count": 80,
   "metadata": {},
   "outputs": [
    {
     "data": {
      "text/plain": [
       "(0.7472889088325481, 0.7239006880047861)"
      ]
     },
     "execution_count": 80,
     "metadata": {},
     "output_type": "execute_result"
    }
   ],
   "source": [
    "logreg_pipe3.score(X_train , y_train) , logreg_pipe3.score(X_test , y_test)"
   ]
  },
  {
   "cell_type": "code",
   "execution_count": 81,
   "metadata": {},
   "outputs": [],
   "source": [
    "y_test_pred=logreg_pipe3.predict(X_test)"
   ]
  },
  {
   "cell_type": "code",
   "execution_count": 82,
   "metadata": {
    "scrolled": true
   },
   "outputs": [
    {
     "name": "stdout",
     "output_type": "stream",
     "text": [
      "              precision    recall  f1-score   support\n",
      "\n",
      "           0       0.84      0.72      0.77      5523\n",
      "           1       0.27      0.73      0.40       686\n",
      "           2       0.81      0.73      0.77      3820\n",
      "\n",
      "    accuracy                           0.72     10029\n",
      "   macro avg       0.64      0.73      0.65     10029\n",
      "weighted avg       0.79      0.72      0.75     10029\n",
      "\n"
     ]
    }
   ],
   "source": [
    "print(classification_report(y_test, y_test_pred)) "
   ]
  },
  {
   "cell_type": "code",
   "execution_count": 58,
   "metadata": {},
   "outputs": [
    {
     "data": {
      "image/png": "[encoded data removed]",
      "text/plain": [
       "<Figure size 432x288 with 2 Axes>"
      ]
     },
     "metadata": {
      "needs_background": "light"
     },
     "output_type": "display_data"
    }
   ],
   "source": [
    "cm = confusion_matrix(y_test, y_test_pred)\n",
    "disp = ConfusionMatrixDisplay(confusion_matrix=cm)\n",
    "disp.plot()\n",
    "plt.show()"
   ]
  },
  {
   "cell_type": "code",
   "execution_count": 215,
   "metadata": {},
   "outputs": [],
   "source": [
    "radf_cv_scores = cross_val_score(logreg_pipe3, X_train, y_train, cv=5, scoring='recall_macro', n_jobs=-1)"
   ]
  },
  {
   "cell_type": "code",
   "execution_count": 216,
   "metadata": {},
   "outputs": [
    {
     "data": {
      "text/plain": [
       "array([0.70981139, 0.70340706, 0.70312695, 0.71816938, 0.70284165])"
      ]
     },
     "execution_count": 216,
     "metadata": {},
     "output_type": "execute_result"
    }
   ],
   "source": [
    "radf_cv_scores"
   ]
  },
  {
   "cell_type": "markdown",
   "metadata": {},
   "source": [
    "### Feature importance"
   ]
  },
  {
   "cell_type": "code",
   "execution_count": 14,
   "metadata": {},
   "outputs": [],
   "source": [
    "colt = logreg_pipe3.named_steps['colt']\n",
    "num_trans = colt.transformers_[0][2]\n",
    "cat_trans = colt.transformers_[1][2]"
   ]
  },
  {
   "cell_type": "code",
   "execution_count": 15,
   "metadata": {},
   "outputs": [
    {
     "data": {
      "text/plain": [
       "['amount_tsh',\n",
       " 'gps_height',\n",
       " 'longitude',\n",
       " 'latitude',\n",
       " 'num_private',\n",
       " 'population',\n",
       " 'public_meeting',\n",
       " 'permit',\n",
       " 'age_waterpoint']"
      ]
     },
     "execution_count": 15,
     "metadata": {},
     "output_type": "execute_result"
    }
   ],
   "source": [
    "num_trans"
   ]
  },
  {
   "cell_type": "code",
   "execution_count": 16,
   "metadata": {},
   "outputs": [],
   "source": [
    "feature_names = num_trans +cat_trans"
   ]
  },
  {
   "cell_type": "code",
   "execution_count": 17,
   "metadata": {},
   "outputs": [],
   "source": [
    "rf_classifier = logreg_pipe3.named_steps['logreg']\n",
    "feature_importances = rf_classifier.feature_importances_"
   ]
  },
  {
   "cell_type": "code",
   "execution_count": 18,
   "metadata": {},
   "outputs": [
    {
     "data": {
      "text/plain": [
       "99.99999999999999"
      ]
     },
     "execution_count": 18,
     "metadata": {},
     "output_type": "execute_result"
    }
   ],
   "source": [
    "(feature_importances*100).sum()"
   ]
  },
  {
   "cell_type": "code",
   "execution_count": 19,
   "metadata": {},
   "outputs": [
    {
     "name": "stdout",
     "output_type": "stream",
     "text": [
      "Feature Importances:\n",
      "amount_tsh: 0.019082179859853828\n",
      "gps_height: 0.03519022011156468\n",
      "longitude: 0.05461311335868211\n",
      "latitude: 0.05191194561020363\n",
      "num_private: 0.0009617657361641954\n",
      "population: 0.025761046148539204\n",
      "public_meeting: 0.005220390725268393\n",
      "permit: 0.005891112998828176\n",
      "age_waterpoint: 0.042076744853891575\n",
      "funder: 0.01885412696188452\n",
      "basin: 0.0044540753934044115\n",
      "region_code: 0.0006056078956077324\n",
      "district_code: 0.00419643285714848\n",
      "lga: 1.913698568836463e-05\n",
      "extraction_type: 5.327333031976855e-05\n",
      "extraction_type_class: 0.0\n",
      "management: 5.289539739442291e-05\n",
      "payment_type: 0.0\n",
      "water_quality: 7.0370460647903715e-06\n",
      "quantity: 0.0\n",
      "source: 2.8323571554346277e-05\n",
      "source_class: 4.147842297812547e-06\n",
      "waterpoint_type: 3.510669311611832e-07\n"
     ]
    }
   ],
   "source": [
    "print(\"Feature Importances:\")\n",
    "for feature, importance in zip(feature_names, feature_importances):\n",
    "    print(f\"{feature}: {importance}\")"
   ]
  },
  {
   "cell_type": "code",
   "execution_count": null,
   "metadata": {},
   "outputs": [],
   "source": [
    "# cross_val_scores = cross_val_score(logreg_pipe3, X_train, y_train, cv=5)"
   ]
  },
  {
   "cell_type": "code",
   "execution_count": null,
   "metadata": {},
   "outputs": [],
   "source": [
    "cross_val_scores.mean()"
   ]
  },
  {
   "cell_type": "code",
   "execution_count": null,
   "metadata": {},
   "outputs": [],
   "source": [
    "# param_grid = {\n",
    "#     'logreg__n_estimators': [50, 100, 150],\n",
    "#     'logreg__max_depth': [None, 10, 20],\n",
    "#     'logreg__min_samples_split': [2, 5, 10],\n",
    "#     'logreg__min_samples_leaf': [1, 2, 4],\n",
    "# }\n",
    "\n",
    "# grid_search = GridSearchCV(logreg_pipe3, param_grid, cv=5)\n",
    "# grid_search.fit(X_train, y_train)\n",
    "\n",
    "# best_params = grid_search.best_params_\n",
    "# best_model = grid_search.best_estimator_\n"
   ]
  },
  {
   "cell_type": "code",
   "execution_count": null,
   "metadata": {},
   "outputs": [],
   "source": []
  },
  {
   "cell_type": "markdown",
   "metadata": {},
   "source": [
    "### Decision tree "
   ]
  },
  {
   "cell_type": "code",
   "execution_count": 122,
   "metadata": {},
   "outputs": [
    {
     "data": {
      "text/plain": [
       "Pipeline(steps=[('colt',\n",
       "                 ColumnTransformer(n_jobs=-1, remainder='passthrough',\n",
       "                                   transformers=[('nums',\n",
       "                                                  Pipeline(steps=[('num_impute',\n",
       "                                                                   SimpleImputer(add_indicator=True,\n",
       "                                                                                 strategy='median')),\n",
       "                                                                  ('ss',\n",
       "                                                                   StandardScaler())]),\n",
       "                                                  ['amount_tsh', 'gps_height',\n",
       "                                                   'longitude', 'latitude',\n",
       "                                                   'num_private', 'population',\n",
       "                                                   'public_meeting', 'permit',\n",
       "                                                   'age_waterpoint']),\n",
       "                                                 ('cats',\n",
       "                                                  Pipeline(step...\n",
       "                                                                   OneHotEncoder(handle_unknown='ignore'))]),\n",
       "                                                  ['funder', 'basin',\n",
       "                                                   'region_code',\n",
       "                                                   'district_code', 'lga',\n",
       "                                                   'extraction_type',\n",
       "                                                   'extraction_type_class',\n",
       "                                                   'management', 'payment_type',\n",
       "                                                   'water_quality', 'quantity',\n",
       "                                                   'source', 'source_class',\n",
       "                                                   'waterpoint_type'])])),\n",
       "                ('dt',\n",
       "                 DecisionTreeClassifier(class_weight='balanced', max_depth=10,\n",
       "                                        min_samples_leaf=4, min_samples_split=6,\n",
       "                                        random_state=42))])"
      ]
     },
     "execution_count": 122,
     "metadata": {},
     "output_type": "execute_result"
    }
   ],
   "source": [
    "from sklearn.tree import DecisionTreeClassifier\n",
    "\n",
    "dt_classifier = DecisionTreeClassifier(\n",
    "    class_weight='balanced',\n",
    "    max_depth=10,\n",
    "    min_samples_split=6,\n",
    "    min_samples_leaf=4,\n",
    "    random_state=42\n",
    ")\n",
    "\n",
    "dt_pipe = Pipeline([\n",
    "    ('colt', col_trans),\n",
    "    ('dt', dt_classifier)\n",
    "])\n",
    "\n",
    "dt_pipe.fit(X_train, y_train)"
   ]
  },
  {
   "cell_type": "code",
   "execution_count": 118,
   "metadata": {},
   "outputs": [
    {
     "data": {
      "text/plain": [
       "(1.0, 0.7566058430551401)"
      ]
     },
     "execution_count": 118,
     "metadata": {},
     "output_type": "execute_result"
    }
   ],
   "source": [
    "dt_pipe.score(X_train , y_train) , dt_pipe.score(X_test , y_test)"
   ]
  },
  {
   "cell_type": "code",
   "execution_count": 159,
   "metadata": {},
   "outputs": [],
   "source": []
  },
  {
   "cell_type": "code",
   "execution_count": 123,
   "metadata": {
    "scrolled": false
   },
   "outputs": [
    {
     "name": "stdout",
     "output_type": "stream",
     "text": [
      "              precision    recall  f1-score   support\n",
      "\n",
      "           0       0.76      0.63      0.69      5523\n",
      "           1       0.17      0.71      0.27       686\n",
      "           2       0.84      0.56      0.67      3820\n",
      "\n",
      "    accuracy                           0.61     10029\n",
      "   macro avg       0.59      0.64      0.55     10029\n",
      "weighted avg       0.75      0.61      0.65     10029\n",
      "\n"
     ]
    }
   ],
   "source": [
    "y_test_pred2=dt_pipe.predict(X_test)\n",
    "print(classification_report(y_test, y_test_pred2)) "
   ]
  },
  {
   "cell_type": "code",
   "execution_count": 214,
   "metadata": {},
   "outputs": [],
   "source": [
    "dt_cv_scores = cross_val_score(dt_pipe, X_train, y_train, cv=5, scoring='recall_macro', n_jobs=-1)"
   ]
  },
  {
   "cell_type": "code",
   "execution_count": 212,
   "metadata": {},
   "outputs": [
    {
     "data": {
      "text/plain": [
       "array([0.61438899, 0.62747671, 0.62928366, 0.63272183, 0.62893726])"
      ]
     },
     "execution_count": 212,
     "metadata": {},
     "output_type": "execute_result"
    }
   ],
   "source": [
    "dt_cv_scores"
   ]
  },
  {
   "cell_type": "code",
   "execution_count": 120,
   "metadata": {},
   "outputs": [],
   "source": [
    "param_grid = {\n",
    "    'dt__max_depth': [None, 10, 20 ,15],\n",
    "    'dt__min_samples_split': [2, 5, 10 ,15],\n",
    "    'dt__min_samples_leaf': [1, 2, 4,8],\n",
    "}\n",
    "\n",
    "grid_search = GridSearchCV(dt_pipe, param_grid, cv=5)\n",
    "grid_search.fit(X_train, y_train)\n",
    "\n",
    "best_params = grid_search.best_params_\n",
    "best_model = grid_search.best_estimator_"
   ]
  },
  {
   "cell_type": "code",
   "execution_count": 121,
   "metadata": {},
   "outputs": [
    {
     "data": {
      "text/plain": [
       "{'dt__max_depth': None, 'dt__min_samples_leaf': 1, 'dt__min_samples_split': 2}"
      ]
     },
     "execution_count": 121,
     "metadata": {},
     "output_type": "execute_result"
    }
   ],
   "source": [
    "best_params"
   ]
  },
  {
   "cell_type": "code",
   "execution_count": 116,
   "metadata": {},
   "outputs": [
    {
     "data": {
      "text/plain": [
       "Pipeline(steps=[('colt',\n",
       "                 ColumnTransformer(n_jobs=-1, remainder='passthrough',\n",
       "                                   transformers=[('nums',\n",
       "                                                  Pipeline(steps=[('num_impute',\n",
       "                                                                   SimpleImputer(add_indicator=True,\n",
       "                                                                                 strategy='median')),\n",
       "                                                                  ('ss',\n",
       "                                                                   StandardScaler())]),\n",
       "                                                  ['amount_tsh', 'gps_height',\n",
       "                                                   'longitude', 'latitude',\n",
       "                                                   'num_private', 'population',\n",
       "                                                   'public_meeting', 'permit',\n",
       "                                                   'age_waterpoint']),\n",
       "                                                 ('cats',\n",
       "                                                  Pipeline(step...\n",
       "                                                                   SimpleImputer(strategy='most_frequent')),\n",
       "                                                                  ('ohe',\n",
       "                                                                   OneHotEncoder(handle_unknown='ignore'))]),\n",
       "                                                  ['funder', 'basin',\n",
       "                                                   'region_code',\n",
       "                                                   'district_code', 'lga',\n",
       "                                                   'extraction_type',\n",
       "                                                   'extraction_type_class',\n",
       "                                                   'management', 'payment_type',\n",
       "                                                   'water_quality', 'quantity',\n",
       "                                                   'source', 'source_class',\n",
       "                                                   'waterpoint_type'])])),\n",
       "                ('dt',\n",
       "                 DecisionTreeClassifier(class_weight='balanced',\n",
       "                                        random_state=42))])"
      ]
     },
     "execution_count": 116,
     "metadata": {},
     "output_type": "execute_result"
    }
   ],
   "source": [
    "best_model"
   ]
  },
  {
   "cell_type": "markdown",
   "metadata": {},
   "source": [
    "Compare the score of every model"
   ]
  },
  {
   "cell_type": "code",
   "execution_count": 209,
   "metadata": {},
   "outputs": [
    {
     "data": {
      "text/plain": [
       "0.694"
      ]
     },
     "execution_count": 209,
     "metadata": {},
     "output_type": "execute_result"
    }
   ],
   "source": [
    "dt_scores"
   ]
  },
  {
   "cell_type": "code",
   "execution_count": 219,
   "metadata": {},
   "outputs": [
    {
     "data": {
      "image/png": "[encoded data removed]",
      "text/plain": [
       "<Figure size 432x288 with 1 Axes>"
      ]
     },
     "metadata": {
      "needs_background": "light"
     },
     "output_type": "display_data"
    }
   ],
   "source": [
    "# Example cross-validation scores for each model\n",
    "results = {\n",
    "    'Logistic Regression': {'cross_val_scores': [0.65757636, 0.64357713, 0.64092842, 0.6489319 , 0.64805132]},\n",
    "    'Random Forest': {'cross_val_scores': [0.70981139, 0.70340706, 0.70312695, 0.71816938, 0.70284165]},\n",
    "    'Decision Tree': {'cross_val_scores': [[0.61438899, 0.62747671, 0.62928366, 0.63272183, 0.62893726]]}\n",
    "}\n",
    "\n",
    "# Extract cross-validation scores for each model\n",
    "logreg_scores = results['Logistic Regression']['cross_val_scores']\n",
    "rf_scores = results['Random Forest']['cross_val_scores']\n",
    "dt_scores = results['Decision Tree']['cross_val_scores']\n",
    "\n",
    "logreg_scores = np.mean(logreg_scores)\n",
    "rf_scores =np.mean(rf_scores)\n",
    "dt_scores= np.mean(dt_scores)\n",
    "\n",
    "# Create a list with the cross-validation scores\n",
    "cross_val_list = [logreg_scores, rf_scores, dt_scores]\n",
    "\n",
    "# Plot the results\n",
    "models = ['Logistic Regression', 'Random Forest', 'Decision Tree']\n",
    "\n",
    "plt.plot(models, cross_val_list, marker='o' , color='red')\n",
    "plt.xlabel('Models')\n",
    "plt.ylabel('Cross-validation Score')\n",
    "plt.title('Cross-validation Score Comparison for Different Models')\n",
    "\n",
    "plt.show()\n"
   ]
  },
  {
   "cell_type": "code",
   "execution_count": 220,
   "metadata": {},
   "outputs": [
    {
     "data": {
      "text/plain": [
       "0.707471286"
      ]
     },
     "execution_count": 220,
     "metadata": {},
     "output_type": "execute_result"
    }
   ],
   "source": [
    "rf_scores"
   ]
  },
  {
   "cell_type": "code",
   "execution_count": null,
   "metadata": {},
   "outputs": [],
   "source": []
  }
 ],
 "metadata": {
  "kernelspec": {
   "display_name": "Python 3",
   "language": "python",
   "name": "python3"
  },
  "language_info": {
   "codemirror_mode": {
    "name": "ipython",
    "version": 3
   },
   "file_extension": ".py",
   "mimetype": "text/x-python",
   "name": "python",
   "nbconvert_exporter": "python",
   "pygments_lexer": "ipython3",
   "version": "3.8.5"
  }
 },
 "nbformat": 4,
 "nbformat_minor": 4
}
