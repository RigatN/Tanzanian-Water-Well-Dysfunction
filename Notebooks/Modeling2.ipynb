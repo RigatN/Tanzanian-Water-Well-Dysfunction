{
 "cells": [
  {
   "cell_type": "markdown",
   "metadata": {},
   "source": [
    "# Tanzanian Water Well Dysfunction"
   ]
  },
  {
   "cell_type": "markdown",
   "metadata": {},
   "source": [
    "## Overview"
   ]
  },
  {
   "cell_type": "markdown",
   "metadata": {},
   "source": [
    "The machine learning model developed for this project will be trained to classify water pumps into one of three categories: functional, in need of repairs, or non-functional. The predictions made by the model will include identifying non-functional pumps, thus aiding in prioritizing maintenance efforts to address issues promptly and ensure a sustainable and reliable water supply for communities."
   ]
  },
  {
   "cell_type": "markdown",
   "metadata": {},
   "source": [
    "## Business Understanding"
   ]
  },
  {
   "cell_type": "markdown",
   "metadata": {},
   "source": [
    "In Tanzania, ensuring the accessibility and functionality of water pumps is vital for delivering clean and potable water to communities. Many rural areas rely on these pumps for their water supply. However, issues such as pump malfunctions and breakdowns can lead to water scarcity, impacting public health, agriculture, and overall community well-being.\n",
    "\n",
    "The primary goal of this project is to develop a predictive maintenance model for water pumps, enabling proactive identification of pumps at risk of dysfunctionality. By leveraging machine learning, we aim to optimize maintenance operations, prioritize interventions, and minimize downtime for non-functional pumps."
   ]
  },
  {
   "cell_type": "markdown",
   "metadata": {},
   "source": [
    "## Modeling"
   ]
  },
  {
   "cell_type": "code",
   "execution_count": 83,
   "metadata": {},
   "outputs": [],
   "source": [
    "import pandas as pd \n",
    "import numpy as np \n",
    "import seaborn as sns\n",
    "import matplotlib.pyplot as plt\n",
    "from scipy.stats import chi2_contingency , skew\n",
    "\n",
    "from sklearn.model_selection import train_test_split, GridSearchCV, cross_validate, cross_val_score\n",
    "from sklearn.preprocessing import OneHotEncoder, StandardScaler, LabelEncoder\n",
    "from sklearn.impute import SimpleImputer\n",
    "from sklearn.compose import ColumnTransformer, make_column_selector as selector\n",
    "from sklearn.linear_model import LogisticRegression\n",
    "from imblearn.pipeline import Pipeline\n",
    "from sklearn.metrics import ConfusionMatrixDisplay, confusion_matrix\n",
    "from sklearn.neighbors import KNeighborsClassifier\n",
    "\n",
    "from sklearn.metrics import classification_report\n",
    "from sklearn.utils.class_weight import compute_class_weight\n",
    "\n",
    "from sklearn.dummy import DummyClassifier\n",
    "from imblearn.over_sampling import SMOTE\n",
    "from sklearn.tree import DecisionTreeClassifier\n",
    "from sklearn.neighbors import KNeighborsClassifier\n",
    "\n",
    "from sklearn.base import BaseEstimator, TransformerMixin\n",
    "from imblearn.pipeline import Pipeline as ImPipeline\n",
    "\n",
    "from sklearn.ensemble import RandomForestClassifier\n",
    "\n",
    "### Suppress Warnings:\n",
    "import warnings\n",
    "warnings.filterwarnings('ignore')\n"
   ]
  },
  {
   "cell_type": "code",
   "execution_count": null,
   "metadata": {},
   "outputs": [],
   "source": []
  },
  {
   "cell_type": "markdown",
   "metadata": {},
   "source": [
    "Load clean data set\n"
   ]
  },
  {
   "cell_type": "code",
   "execution_count": 4,
   "metadata": {},
   "outputs": [],
   "source": [
    "#load clean data set\n",
    "featurs=features =pd.read_csv('../Data/clean_data.csv' , index_col=0)"
   ]
  },
  {
   "cell_type": "code",
   "execution_count": 5,
   "metadata": {},
   "outputs": [],
   "source": [
    "#casting the data type of region and district code to object , they need to be catagorical\n",
    "features['region_code'] = features['region_code'].astype('O')\n",
    "features['district_code'] = features['district_code'].astype('O')"
   ]
  },
  {
   "cell_type": "markdown",
   "metadata": {},
   "source": [
    "### column 'status_group' is the target\n",
    "\n",
    "    class 0 Funcional\n",
    "    class 2 non functional\n",
    "    class 1 Functional , needs repair"
   ]
  },
  {
   "cell_type": "code",
   "execution_count": 6,
   "metadata": {},
   "outputs": [
    {
     "data": {
      "text/plain": [
       "functional                 0.547146\n",
       "non functional             0.386622\n",
       "functional needs repair    0.066232\n",
       "Name: status_group, dtype: float64"
      ]
     },
     "execution_count": 6,
     "metadata": {},
     "output_type": "execute_result"
    }
   ],
   "source": [
    "features.status_group.value_counts(normalize=True)"
   ]
  },
  {
   "cell_type": "markdown",
   "metadata": {},
   "source": [
    "#### Assesses whether there is a significant association between  categorical features and target using contigency table"
   ]
  },
  {
   "cell_type": "code",
   "execution_count": 7,
   "metadata": {
    "scrolled": true
   },
   "outputs": [
    {
     "name": "stdout",
     "output_type": "stream",
     "text": [
      "Cramér's V for basin: 14.039942653092838\n",
      "Cramér's V for district_code: 12.176885873667215\n",
      "Cramér's V for extraction_type: 25.434636897093572\n",
      "Cramér's V for extraction_type_class: 24.849463118163044\n",
      "Cramér's V for funder: 35.6261047492305\n",
      "Cramér's V for lga: 31.364730334510778\n",
      "Cramér's V for management: 12.92057939302078\n",
      "Cramér's V for payment_type: 18.661209409437916\n",
      "Cramér's V for quantity: 30.497883605923825\n",
      "Cramér's V for region_code: 22.005631106048735\n",
      "Cramér's V for source: 15.293703460470764\n",
      "Cramér's V for source_class: 7.65176145463199\n",
      "Cramér's V for water_quality: 10.950805868666057\n",
      "Cramér's V for waterpoint_type: 25.094313551495873\n"
     ]
    }
   ],
   "source": [
    "features_columns = features.select_dtypes(include='O').columns.difference(['status_group'])\n",
    "cramer_vs = []\n",
    "\n",
    "for cols in features_columns:\n",
    "    contingency_table = pd.crosstab(features['status_group'], features[cols])\n",
    "\n",
    "    chi2, _, _, _ = chi2_contingency(contingency_table)\n",
    "    n = contingency_table.sum().sum()\n",
    "    min_dim = min(contingency_table.shape) - 1\n",
    "    v = np.sqrt(chi2 / (n * min_dim))\n",
    "    cramer_vs.append(v)\n",
    "    print(f\"Cramér's V for {cols}: {v * 100}\")"
   ]
  },
  {
   "cell_type": "code",
   "execution_count": 8,
   "metadata": {},
   "outputs": [
    {
     "data": {
      "text/html": [
       "<div>\n",
       "<style scoped>\n",
       "    .dataframe tbody tr th:only-of-type {\n",
       "        vertical-align: middle;\n",
       "    }\n",
       "\n",
       "    .dataframe tbody tr th {\n",
       "        vertical-align: top;\n",
       "    }\n",
       "\n",
       "    .dataframe thead th {\n",
       "        text-align: right;\n",
       "    }\n",
       "</style>\n",
       "<table border=\"1\" class=\"dataframe\">\n",
       "  <thead>\n",
       "    <tr style=\"text-align: right;\">\n",
       "      <th>waterpoint_type</th>\n",
       "      <th>cattle trough</th>\n",
       "      <th>communal standpipe</th>\n",
       "      <th>communal standpipe multiple</th>\n",
       "      <th>dam</th>\n",
       "      <th>hand pump</th>\n",
       "      <th>improved spring</th>\n",
       "      <th>other</th>\n",
       "    </tr>\n",
       "    <tr>\n",
       "      <th>status_group</th>\n",
       "      <th></th>\n",
       "      <th></th>\n",
       "      <th></th>\n",
       "      <th></th>\n",
       "      <th></th>\n",
       "      <th></th>\n",
       "      <th></th>\n",
       "    </tr>\n",
       "  </thead>\n",
       "  <tbody>\n",
       "    <tr>\n",
       "      <th>functional</th>\n",
       "      <td>65</td>\n",
       "      <td>15033</td>\n",
       "      <td>2087</td>\n",
       "      <td>6</td>\n",
       "      <td>8994</td>\n",
       "      <td>528</td>\n",
       "      <td>722</td>\n",
       "    </tr>\n",
       "    <tr>\n",
       "      <th>functional needs repair</th>\n",
       "      <td>2</td>\n",
       "      <td>1761</td>\n",
       "      <td>632</td>\n",
       "      <td>0</td>\n",
       "      <td>592</td>\n",
       "      <td>76</td>\n",
       "      <td>258</td>\n",
       "    </tr>\n",
       "    <tr>\n",
       "      <th>non functional</th>\n",
       "      <td>19</td>\n",
       "      <td>7121</td>\n",
       "      <td>2829</td>\n",
       "      <td>0</td>\n",
       "      <td>4918</td>\n",
       "      <td>116</td>\n",
       "      <td>4383</td>\n",
       "    </tr>\n",
       "  </tbody>\n",
       "</table>\n",
       "</div>"
      ],
      "text/plain": [
       "waterpoint_type          cattle trough  communal standpipe  \\\n",
       "status_group                                                 \n",
       "functional                          65               15033   \n",
       "functional needs repair              2                1761   \n",
       "non functional                      19                7121   \n",
       "\n",
       "waterpoint_type          communal standpipe multiple  dam  hand pump  \\\n",
       "status_group                                                           \n",
       "functional                                      2087    6       8994   \n",
       "functional needs repair                          632    0        592   \n",
       "non functional                                  2829    0       4918   \n",
       "\n",
       "waterpoint_type          improved spring  other  \n",
       "status_group                                     \n",
       "functional                           528    722  \n",
       "functional needs repair               76    258  \n",
       "non functional                       116   4383  "
      ]
     },
     "execution_count": 8,
     "metadata": {},
     "output_type": "execute_result"
    }
   ],
   "source": [
    "contingency_table"
   ]
  },
  {
   "cell_type": "code",
   "execution_count": 9,
   "metadata": {
    "scrolled": true
   },
   "outputs": [
    {
     "data": {
      "image/png": "[encoded data removed]",
      "text/plain": [
       "<Figure size 720x432 with 1 Axes>"
      ]
     },
     "metadata": {
      "needs_background": "light"
     },
     "output_type": "display_data"
    }
   ],
   "source": [
    "data = pd.DataFrame({'Features': features_columns, \"Cramér's V (%)\": [v * 100 for v in cramer_vs]})\n",
    "data = data.sort_values(by=\"Cramér's V (%)\", ascending=False)\n",
    "\n",
    "colors = sns.color_palette(\"viridis\", n_colors=len(data))\n",
    "\n",
    "# Plot using Seaborn with sorted and colored bars\n",
    "plt.figure(figsize=(10, 6))\n",
    "sns.barplot(x='Features', y=\"Cramér's V (%)\", data=data, palette=colors)\n",
    "plt.xlabel('Features')\n",
    "plt.ylabel(\"Cramér's V (%)\")\n",
    "plt.title(\"Cramér's V for each feature with 'status_group'\")\n",
    "plt.xticks(rotation=45, ha='right')\n",
    "plt.tight_layout()\n",
    "plt.show()\n",
    "\n"
   ]
  },
  {
   "cell_type": "markdown",
   "metadata": {},
   "source": [
    "Assesses whether there is a significant association between numerical features and target"
   ]
  },
  {
   "cell_type": "code",
   "execution_count": null,
   "metadata": {},
   "outputs": [],
   "source": []
  },
  {
   "cell_type": "markdown",
   "metadata": {},
   "source": [
    "## Modeling"
   ]
  },
  {
   "cell_type": "markdown",
   "metadata": {},
   "source": [
    "simple cross validation function for pipelines"
   ]
  },
  {
   "cell_type": "code",
   "execution_count": 94,
   "metadata": {},
   "outputs": [],
   "source": [
    "def cross_validate_pipelines(model, X, y, cv=5, scoring='recall_macro'):\n",
    "    \n",
    "    scores = cross_val_score(model, X, y, cv=cv, scoring=scoring)\n",
    "\n",
    "    return (np.mean(scores)) "
   ]
  },
  {
   "cell_type": "code",
   "execution_count": 11,
   "metadata": {},
   "outputs": [],
   "source": [
    "#numerical and catagorical columns\n",
    "cat_columns=list(features.select_dtypes(include='O').columns)\n",
    "num_columns=list(features.select_dtypes(exclude='O').columns)\n",
    "cat_columns.remove('status_group')"
   ]
  },
  {
   "cell_type": "markdown",
   "metadata": {},
   "source": [
    "check the skewnes of the numerical features"
   ]
  },
  {
   "cell_type": "code",
   "execution_count": 12,
   "metadata": {},
   "outputs": [],
   "source": [
    "# numeric_cols = features.select_dtypes(include=['float64', 'int64']).columns\n",
    "\n",
    "# skewness = features[num_columns].apply(lambda x: skew(x.dropna()))\n",
    "# skewed_columns = skewness[abs(skewness) > 0.5].index.tolist()\n",
    "\n",
    "# skewed_columns =['amount_tsh','population']\n",
    "# print(\"Skewed Columns:\", skewed_columns)"
   ]
  },
  {
   "cell_type": "markdown",
   "metadata": {},
   "source": [
    "split train and test data and label encode target \n",
    "\n",
    "    0 Functional\n",
    "    1 non functional\n",
    "    2 functional needs repair"
   ]
  },
  {
   "cell_type": "code",
   "execution_count": 13,
   "metadata": {},
   "outputs": [],
   "source": [
    "# create features and target\n",
    "X = features.drop('status_group', axis=1)\n",
    "y = features.status_group\n",
    "\n",
    "#label encode for the classes of the target\n",
    "encoder = LabelEncoder()\n",
    "y_transorm = encoder.fit_transform(y)\n",
    "\n",
    "\n",
    "# split into train and test sets\n",
    "X_train, X_test, y_train, y_test = train_test_split(X, y_transorm, test_size=0.2, random_state=42)"
   ]
  },
  {
   "cell_type": "markdown",
   "metadata": {},
   "source": [
    "### sub-pipelines"
   ]
  },
  {
   "cell_type": "code",
   "execution_count": 14,
   "metadata": {},
   "outputs": [],
   "source": [
    "num_pipeline = Pipeline(steps=[\n",
    "    ('num_impute', SimpleImputer(strategy='median' ,add_indicator=True)),\n",
    "    ('ss', StandardScaler())\n",
    "])\n",
    "\n",
    "cat_pipeline = Pipeline(steps=[\n",
    "    ('impute_cat', SimpleImputer(strategy='most_frequent')),\n",
    "    ('ohe', OneHotEncoder(handle_unknown='ignore',sparse=True))\n",
    "])"
   ]
  },
  {
   "cell_type": "code",
   "execution_count": 15,
   "metadata": {},
   "outputs": [],
   "source": [
    "col_trans=ColumnTransformer(transformers=[\n",
    "    ('nums', num_pipeline, num_columns),\n",
    "    ('cats', cat_pipeline, cat_columns),\n",
    "], remainder='passthrough' ,n_jobs=-1 )"
   ]
  },
  {
   "cell_type": "markdown",
   "metadata": {},
   "source": [
    "# Model 1"
   ]
  },
  {
   "cell_type": "markdown",
   "metadata": {},
   "source": [
    "#### Dummy Classifier"
   ]
  },
  {
   "cell_type": "code",
   "execution_count": 16,
   "metadata": {},
   "outputs": [
    {
     "data": {
      "text/plain": [
       "Pipeline(steps=[('col_trans',\n",
       "                 ColumnTransformer(n_jobs=-1, remainder='passthrough',\n",
       "                                   transformers=[('nums',\n",
       "                                                  Pipeline(steps=[('num_impute',\n",
       "                                                                   SimpleImputer(add_indicator=True,\n",
       "                                                                                 strategy='median')),\n",
       "                                                                  ('ss',\n",
       "                                                                   StandardScaler())]),\n",
       "                                                  ['amount_tsh', 'gps_height',\n",
       "                                                   'longitude', 'latitude',\n",
       "                                                   'num_private', 'population',\n",
       "                                                   'public_meeting', 'permit',\n",
       "                                                   'age_waterpoint']),\n",
       "                                                 ('cats',\n",
       "                                                  Pipeline(steps=[('impute_cat',\n",
       "                                                                   SimpleImputer(strategy='most_frequent')),\n",
       "                                                                  ('ohe',\n",
       "                                                                   OneHotEncoder(handle_unknown='ignore'))]),\n",
       "                                                  ['funder', 'basin',\n",
       "                                                   'region_code',\n",
       "                                                   'district_code', 'lga',\n",
       "                                                   'extraction_type',\n",
       "                                                   'extraction_type_class',\n",
       "                                                   'management', 'payment_type',\n",
       "                                                   'water_quality', 'quantity',\n",
       "                                                   'source', 'source_class',\n",
       "                                                   'waterpoint_type'])])),\n",
       "                ('dummyC', DummyClassifier())])"
      ]
     },
     "execution_count": 16,
     "metadata": {},
     "output_type": "execute_result"
    }
   ],
   "source": [
    "dummy_pipeline = Pipeline([\n",
    "    ('col_trans', col_trans),\n",
    "    ('dummyC', DummyClassifier())\n",
    "])\n",
    "\n",
    "dummy_pipeline.fit(X_train, y_train)"
   ]
  },
  {
   "cell_type": "markdown",
   "metadata": {},
   "source": [
    "The accuracy of the cross validaion of dummy classifier is 45.15%"
   ]
  },
  {
   "cell_type": "code",
   "execution_count": 89,
   "metadata": {},
   "outputs": [
    {
     "data": {
      "text/plain": [
       "0.4583713696814793"
      ]
     },
     "execution_count": 89,
     "metadata": {},
     "output_type": "execute_result"
    }
   ],
   "source": [
    "cross_validate_pipelines(dummy_pipeline , X_test , y_test)"
   ]
  },
  {
   "cell_type": "code",
   "execution_count": 18,
   "metadata": {},
   "outputs": [
    {
     "data": {
      "text/plain": [
       "0.4509759928202827"
      ]
     },
     "execution_count": 18,
     "metadata": {},
     "output_type": "execute_result"
    }
   ],
   "source": [
    "dummy_pipeline.score(X_train , y_train)"
   ]
  },
  {
   "cell_type": "code",
   "execution_count": 19,
   "metadata": {},
   "outputs": [
    {
     "name": "stdout",
     "output_type": "stream",
     "text": [
      "              precision    recall  f1-score   support\n",
      "\n",
      "           0       0.56      0.55      0.55      5523\n",
      "           1       0.07      0.07      0.07       686\n",
      "           2       0.38      0.39      0.39      3820\n",
      "\n",
      "    accuracy                           0.46     10029\n",
      "   macro avg       0.34      0.34      0.34     10029\n",
      "weighted avg       0.46      0.46      0.46     10029\n",
      "\n"
     ]
    }
   ],
   "source": [
    "y_test_pred = dummy_pipeline.predict(X_test)\n",
    "print(classification_report(y_test, y_test_pred))"
   ]
  },
  {
   "cell_type": "markdown",
   "metadata": {},
   "source": [
    "## Logistic Regression"
   ]
  },
  {
   "cell_type": "markdown",
   "metadata": {},
   "source": [
    "logistic regression model 1\n"
   ]
  },
  {
   "cell_type": "code",
   "execution_count": 20,
   "metadata": {},
   "outputs": [
    {
     "data": {
      "text/plain": [
       "Pipeline(steps=[('colt',\n",
       "                 ColumnTransformer(n_jobs=-1, remainder='passthrough',\n",
       "                                   transformers=[('nums',\n",
       "                                                  Pipeline(steps=[('num_impute',\n",
       "                                                                   SimpleImputer(add_indicator=True,\n",
       "                                                                                 strategy='median')),\n",
       "                                                                  ('ss',\n",
       "                                                                   StandardScaler())]),\n",
       "                                                  ['amount_tsh', 'gps_height',\n",
       "                                                   'longitude', 'latitude',\n",
       "                                                   'num_private', 'population',\n",
       "                                                   'public_meeting', 'permit',\n",
       "                                                   'age_waterpoint']),\n",
       "                                                 ('cats',\n",
       "                                                  Pipeline(steps=[('impute_cat',\n",
       "                                                                   SimpleImputer(strategy='most_frequent')),\n",
       "                                                                  ('ohe',\n",
       "                                                                   OneHotEncoder(handle_unknown='ignore'))]),\n",
       "                                                  ['funder', 'basin',\n",
       "                                                   'region_code',\n",
       "                                                   'district_code', 'lga',\n",
       "                                                   'extraction_type',\n",
       "                                                   'extraction_type_class',\n",
       "                                                   'management', 'payment_type',\n",
       "                                                   'water_quality', 'quantity',\n",
       "                                                   'source', 'source_class',\n",
       "                                                   'waterpoint_type'])])),\n",
       "                ('logreg', LogisticRegression(C=0.1))])"
      ]
     },
     "execution_count": 20,
     "metadata": {},
     "output_type": "execute_result"
    }
   ],
   "source": [
    "# first simple model\n",
    "logreg_model1 = Pipeline([\n",
    "    ('colt', col_trans),\n",
    "    ('logreg', LogisticRegression(C=0.1))\n",
    "])\n",
    "\n",
    "logreg_model1.fit(X_train, y_train)"
   ]
  },
  {
   "cell_type": "code",
   "execution_count": 21,
   "metadata": {},
   "outputs": [
    {
     "data": {
      "text/plain": [
       "0.7621719537133533"
      ]
     },
     "execution_count": 21,
     "metadata": {},
     "output_type": "execute_result"
    }
   ],
   "source": [
    "cross_validate_pipelines(logreg_model1 , X_train , y_train)"
   ]
  },
  {
   "cell_type": "code",
   "execution_count": 22,
   "metadata": {},
   "outputs": [
    {
     "data": {
      "text/plain": [
       "0.7693266522075137"
      ]
     },
     "execution_count": 22,
     "metadata": {},
     "output_type": "execute_result"
    }
   ],
   "source": [
    "logreg_model1.score(X_train , y_train)"
   ]
  },
  {
   "cell_type": "code",
   "execution_count": 23,
   "metadata": {
    "scrolled": true
   },
   "outputs": [
    {
     "name": "stdout",
     "output_type": "stream",
     "text": [
      "              precision    recall  f1-score   support\n",
      "\n",
      "           0       0.76      0.90      0.82      5523\n",
      "           1       0.65      0.12      0.21       686\n",
      "           2       0.80      0.70      0.74      3820\n",
      "\n",
      "    accuracy                           0.77     10029\n",
      "   macro avg       0.73      0.57      0.59     10029\n",
      "weighted avg       0.76      0.77      0.75     10029\n",
      "\n"
     ]
    }
   ],
   "source": [
    "y_lgtest_pred = logreg_model1.predict(X_test)\n",
    "print(classification_report(y_test, y_lgtest_pred))"
   ]
  },
  {
   "cell_type": "markdown",
   "metadata": {},
   "source": [
    "Logistic regression model one seems doing better than dummy classifier\n",
    "    where its accuracy is 77% but failed to pick up the disfunctionality of the well."
   ]
  },
  {
   "cell_type": "markdown",
   "metadata": {},
   "source": [
    "##### Logistic regression adjusting hyper parameters"
   ]
  },
  {
   "cell_type": "code",
   "execution_count": 24,
   "metadata": {},
   "outputs": [
    {
     "data": {
      "text/plain": [
       "Pipeline(steps=[('colt',\n",
       "                 ColumnTransformer(n_jobs=-1, remainder='passthrough',\n",
       "                                   transformers=[('nums',\n",
       "                                                  Pipeline(steps=[('num_impute',\n",
       "                                                                   SimpleImputer(add_indicator=True,\n",
       "                                                                                 strategy='median')),\n",
       "                                                                  ('ss',\n",
       "                                                                   StandardScaler())]),\n",
       "                                                  ['amount_tsh', 'gps_height',\n",
       "                                                   'longitude', 'latitude',\n",
       "                                                   'num_private', 'population',\n",
       "                                                   'public_meeting', 'permit',\n",
       "                                                   'age_waterpoint']),\n",
       "                                                 ('cats',\n",
       "                                                  Pipeline(step...\n",
       "                                                                   OneHotEncoder(handle_unknown='ignore'))]),\n",
       "                                                  ['funder', 'basin',\n",
       "                                                   'region_code',\n",
       "                                                   'district_code', 'lga',\n",
       "                                                   'extraction_type',\n",
       "                                                   'extraction_type_class',\n",
       "                                                   'management', 'payment_type',\n",
       "                                                   'water_quality', 'quantity',\n",
       "                                                   'source', 'source_class',\n",
       "                                                   'waterpoint_type'])])),\n",
       "                ('logreg',\n",
       "                 LogisticRegression(C=1, class_weight='balanced', max_iter=1000,\n",
       "                                    n_jobs=-1, solver='liblinear',\n",
       "                                    tol=0.001))])"
      ]
     },
     "execution_count": 24,
     "metadata": {},
     "output_type": "execute_result"
    }
   ],
   "source": [
    "logreg_model2 = Pipeline([\n",
    "    ('colt', col_trans),\n",
    "    ('logreg', LogisticRegression(class_weight='balanced' ,C=1 ,n_jobs=-1 , solver='liblinear',max_iter=1000, tol=0.001))\n",
    "])\n",
    "\n",
    "logreg_model2.fit(X_train, y_train)"
   ]
  },
  {
   "cell_type": "markdown",
   "metadata": {},
   "source": [
    "recall percentage"
   ]
  },
  {
   "cell_type": "code",
   "execution_count": 25,
   "metadata": {},
   "outputs": [
    {
     "data": {
      "text/plain": [
       "0.7353478078621694"
      ]
     },
     "execution_count": 25,
     "metadata": {},
     "output_type": "execute_result"
    }
   ],
   "source": [
    "cross_validate_pipelines(logreg_model2 , X_train , y_train)"
   ]
  },
  {
   "cell_type": "code",
   "execution_count": 26,
   "metadata": {},
   "outputs": [
    {
     "data": {
      "text/plain": [
       "0.7490838381572059"
      ]
     },
     "execution_count": 26,
     "metadata": {},
     "output_type": "execute_result"
    }
   ],
   "source": [
    "logreg_model2.score(X_train , y_train)"
   ]
  },
  {
   "cell_type": "code",
   "execution_count": 27,
   "metadata": {
    "scrolled": true
   },
   "outputs": [
    {
     "name": "stdout",
     "output_type": "stream",
     "text": [
      "              precision    recall  f1-score   support\n",
      "\n",
      "           0       0.80      0.80      0.80      5523\n",
      "           1       0.30      0.47      0.36       686\n",
      "           2       0.78      0.70      0.74      3820\n",
      "\n",
      "    accuracy                           0.74     10029\n",
      "   macro avg       0.63      0.66      0.63     10029\n",
      "weighted avg       0.76      0.74      0.75     10029\n",
      "\n"
     ]
    }
   ],
   "source": [
    "y_test_pred = logreg_model2.predict(X_test)\n",
    "print(classification_report(y_test, y_test_pred))"
   ]
  },
  {
   "cell_type": "markdown",
   "metadata": {},
   "source": [
    "## model feature selector\n",
    "\n",
    "    using select from model to maximize my model by minimizing complexity\n",
    "    \n",
    "    This model recall score on unseen data is \n",
    "\n",
    "           functional                78%     \n",
    "           non functional            41%      \n",
    "           fuctional needs repair    67% \n",
    "it is not picking to much of non fucntional class       "
   ]
  },
  {
   "cell_type": "code",
   "execution_count": 28,
   "metadata": {},
   "outputs": [
    {
     "data": {
      "text/plain": [
       "Pipeline(steps=[('colt',\n",
       "                 ColumnTransformer(n_jobs=-1, remainder='passthrough',\n",
       "                                   transformers=[('nums',\n",
       "                                                  Pipeline(steps=[('num_impute',\n",
       "                                                                   SimpleImputer(add_indicator=True,\n",
       "                                                                                 strategy='median')),\n",
       "                                                                  ('ss',\n",
       "                                                                   StandardScaler())]),\n",
       "                                                  ['amount_tsh', 'gps_height',\n",
       "                                                   'longitude', 'latitude',\n",
       "                                                   'num_private', 'population',\n",
       "                                                   'public_meeting', 'permit',\n",
       "                                                   'age_waterpoint']),\n",
       "                                                 ('cats',\n",
       "                                                  Pipeline(step...\n",
       "                                                   'management', 'payment_type',\n",
       "                                                   'water_quality', 'quantity',\n",
       "                                                   'source', 'source_class',\n",
       "                                                   'waterpoint_type'])])),\n",
       "                ('selector',\n",
       "                 SelectFromModel(estimator=LogisticRegression(C=1,\n",
       "                                                              class_weight='balanced',\n",
       "                                                              max_iter=1000,\n",
       "                                                              n_jobs=-1,\n",
       "                                                              solver='liblinear',\n",
       "                                                              tol=0.001))),\n",
       "                ('logreg',\n",
       "                 LogisticRegression(C=1, class_weight='balanced', max_iter=1000,\n",
       "                                    n_jobs=-1, solver='liblinear',\n",
       "                                    tol=0.001))])"
      ]
     },
     "execution_count": 28,
     "metadata": {},
     "output_type": "execute_result"
    }
   ],
   "source": [
    "from sklearn.feature_selection import SelectFromModel\n",
    "\n",
    "logreg_model4 = Pipeline([\n",
    "    ('colt', col_trans),\n",
    "    ('selector', SelectFromModel(LogisticRegression(class_weight='balanced' ,C=1 ,n_jobs=-1 , solver='liblinear',max_iter=1000, tol=0.001))),\n",
    "    ('logreg', LogisticRegression(class_weight='balanced' ,C=1 ,n_jobs=-1 , solver='liblinear',max_iter=1000, tol=0.001))\n",
    "])\n",
    "\n",
    "logreg_model4.fit(X_train, y_train)"
   ]
  },
  {
   "cell_type": "code",
   "execution_count": 29,
   "metadata": {},
   "outputs": [
    {
     "data": {
      "text/plain": [
       "0.7304864943106568"
      ]
     },
     "execution_count": 29,
     "metadata": {},
     "output_type": "execute_result"
    }
   ],
   "source": [
    "cross_validate_pipelines(logreg_model4 , X_train , y_train)"
   ]
  },
  {
   "cell_type": "code",
   "execution_count": 30,
   "metadata": {},
   "outputs": [
    {
     "name": "stdout",
     "output_type": "stream",
     "text": [
      "              precision    recall  f1-score   support\n",
      "\n",
      "           0       0.78      0.81      0.80      5523\n",
      "           1       0.28      0.41      0.34       686\n",
      "           2       0.78      0.67      0.72      3820\n",
      "\n",
      "    accuracy                           0.73     10029\n",
      "   macro avg       0.61      0.63      0.62     10029\n",
      "weighted avg       0.75      0.73      0.74     10029\n",
      "\n"
     ]
    }
   ],
   "source": [
    "y_test_pred4 = logreg_model4.predict(X_test)\n",
    "print(classification_report(y_test, y_test_pred4))"
   ]
  },
  {
   "cell_type": "markdown",
   "metadata": {},
   "source": [
    "### Random Forest Classification"
   ]
  },
  {
   "cell_type": "markdown",
   "metadata": {},
   "source": [
    "randome forest classification first model"
   ]
  },
  {
   "cell_type": "markdown",
   "metadata": {},
   "source": [
    "randome forest classification secod model after grid search"
   ]
  },
  {
   "cell_type": "code",
   "execution_count": 52,
   "metadata": {},
   "outputs": [
    {
     "data": {
      "text/plain": [
       "Pipeline(steps=[('colt',\n",
       "                 ColumnTransformer(n_jobs=-1, remainder='passthrough',\n",
       "                                   transformers=[('nums',\n",
       "                                                  Pipeline(steps=[('num_impute',\n",
       "                                                                   SimpleImputer(add_indicator=True,\n",
       "                                                                                 strategy='median')),\n",
       "                                                                  ('ss',\n",
       "                                                                   StandardScaler())]),\n",
       "                                                  ['amount_tsh', 'gps_height',\n",
       "                                                   'longitude', 'latitude',\n",
       "                                                   'num_private', 'population',\n",
       "                                                   'public_meeting', 'permit',\n",
       "                                                   'age_waterpoint']),\n",
       "                                                 ('cats',\n",
       "                                                  Pipeline(step...\n",
       "                                                                   OneHotEncoder(handle_unknown='ignore'))]),\n",
       "                                                  ['funder', 'basin',\n",
       "                                                   'region_code',\n",
       "                                                   'district_code', 'lga',\n",
       "                                                   'extraction_type',\n",
       "                                                   'extraction_type_class',\n",
       "                                                   'management', 'payment_type',\n",
       "                                                   'water_quality', 'quantity',\n",
       "                                                   'source', 'source_class',\n",
       "                                                   'waterpoint_type'])])),\n",
       "                ('logreg',\n",
       "                 RandomForestClassifier(class_weight='balanced',\n",
       "                                        min_samples_leaf=4, min_samples_split=6,\n",
       "                                        random_state=42))])"
      ]
     },
     "execution_count": 52,
     "metadata": {},
     "output_type": "execute_result"
    }
   ],
   "source": [
    "randomF_model = Pipeline([\n",
    "    ('colt', col_trans),\n",
    "    ('logreg', RandomForestClassifier(class_weight='balanced',min_samples_split=6,min_samples_leaf=4,n_estimators=100, random_state=42))\n",
    "])\n",
    "\n",
    "randomF_model.fit(X_train, y_train)"
   ]
  },
  {
   "cell_type": "code",
   "execution_count": 56,
   "metadata": {},
   "outputs": [
    {
     "data": {
      "text/plain": [
       "0.7153791954339204"
      ]
     },
     "execution_count": 56,
     "metadata": {},
     "output_type": "execute_result"
    }
   ],
   "source": [
    "cross_validate_pipelines(randomF_model , X_train , y_train)"
   ]
  },
  {
   "cell_type": "code",
   "execution_count": 53,
   "metadata": {},
   "outputs": [
    {
     "data": {
      "text/plain": [
       "(0.7472889088325481, 0.7239006880047861)"
      ]
     },
     "execution_count": 53,
     "metadata": {},
     "output_type": "execute_result"
    }
   ],
   "source": [
    "randomF_model.score(X_train , y_train) , randomF_model.score(X_test , y_test) "
   ]
  },
  {
   "cell_type": "code",
   "execution_count": 57,
   "metadata": {},
   "outputs": [
    {
     "name": "stdout",
     "output_type": "stream",
     "text": [
      "              precision    recall  f1-score   support\n",
      "\n",
      "           0       0.84      0.72      0.77      5523\n",
      "           1       0.27      0.73      0.40       686\n",
      "           2       0.81      0.73      0.77      3820\n",
      "\n",
      "    accuracy                           0.72     10029\n",
      "   macro avg       0.64      0.73      0.65     10029\n",
      "weighted avg       0.79      0.72      0.75     10029\n",
      "\n"
     ]
    }
   ],
   "source": [
    "y_test_pred=randomF_model.predict(X_test)\n",
    "print(classification_report(y_test, y_test_pred))"
   ]
  },
  {
   "cell_type": "markdown",
   "metadata": {},
   "source": [
    "##### confussion matrix for random forest\n"
   ]
  },
  {
   "cell_type": "code",
   "execution_count": 58,
   "metadata": {
    "scrolled": true
   },
   "outputs": [
    {
     "data": {
      "image/png": "[encoded data removed]",
      "text/plain": [
       "<Figure size 432x288 with 2 Axes>"
      ]
     },
     "metadata": {
      "needs_background": "light"
     },
     "output_type": "display_data"
    }
   ],
   "source": [
    "cm = confusion_matrix(y_test, y_test_pred)\n",
    "disp = ConfusionMatrixDisplay(confusion_matrix=cm)\n",
    "disp.plot()\n",
    "plt.show()"
   ]
  },
  {
   "cell_type": "markdown",
   "metadata": {},
   "source": [
    "### Grid search 1 for random forest classification"
   ]
  },
  {
   "cell_type": "code",
   "execution_count": 42,
   "metadata": {},
   "outputs": [
    {
     "name": "stdout",
     "output_type": "stream",
     "text": [
      "Best Parameters: {'logreg__max_depth': None, 'logreg__min_samples_leaf': 2, 'logreg__min_samples_split': 6, 'logreg__n_estimators': 50}\n",
      "Best Cross-Validation Score: 0.7212781275982877\n"
     ]
    }
   ],
   "source": [
    "param_grid = {\n",
    "    'logreg__n_estimators': [50, 100, 200],\n",
    "    'logreg__max_depth': [None, 10, 20],\n",
    "    'logreg__min_samples_split': [2, 4, 6],\n",
    "    'logreg__min_samples_leaf': [1, 2, 4]\n",
    "}\n",
    "\n",
    "# Perform grid search with cross-validation\n",
    "grid_search = GridSearchCV(randomF_model, param_grid, cv=5, scoring='recall_macro',n_jobs = -1)\n",
    "grid_search.fit(X_train, y_train)\n",
    "\n",
    "\n",
    "print(\"Best Parameters:\", grid_search.best_params_)\n",
    "print(\"Best Cross-Validation Score:\", grid_search.best_score_)"
   ]
  },
  {
   "cell_type": "markdown",
   "metadata": {},
   "source": [
    "### Feature importance"
   ]
  },
  {
   "cell_type": "markdown",
   "metadata": {},
   "source": [
    "feature importance from random fores classification"
   ]
  },
  {
   "cell_type": "code",
   "execution_count": 62,
   "metadata": {},
   "outputs": [],
   "source": [
    "colt = randomF_model.named_steps['colt']\n",
    "num_trans = colt.transformers_[0][2]\n",
    "cat_trans = colt.transformers_[1][2]\n",
    "feature_names = num_trans +cat_trans"
   ]
  },
  {
   "cell_type": "code",
   "execution_count": 63,
   "metadata": {
    "scrolled": true
   },
   "outputs": [
    {
     "name": "stdout",
     "output_type": "stream",
     "text": [
      "Feature Importances:\n",
      "amount_tsh: 0.015430756508458692\n",
      "gps_height: 0.03315706721267188\n",
      "longitude: 0.05462324027827048\n",
      "latitude: 0.04384837659721539\n",
      "num_private: 0.0007588353320696995\n",
      "population: 0.021444769129355223\n",
      "public_meeting: 0.0036912609644967577\n",
      "permit: 0.006857458912573693\n",
      "age_waterpoint: 0.03226450753623995\n",
      "funder: 0.014652346717858082\n",
      "basin: 0.005089316075256608\n",
      "region_code: 0.0004578918905074867\n",
      "district_code: 0.004806694718719384\n",
      "lga: 3.9677673228189545e-05\n",
      "extraction_type: 4.4675659081925987e-05\n",
      "extraction_type_class: 0.0\n",
      "management: 2.268323968031746e-05\n",
      "payment_type: 0.0\n",
      "water_quality: 0.0\n",
      "quantity: 0.0\n",
      "source: 0.0\n",
      "source_class: 2.90412664187028e-05\n",
      "waterpoint_type: 0.0\n"
     ]
    }
   ],
   "source": [
    "rf_classifier = randomF_model.named_steps['logreg']\n",
    "feature_importances = rf_classifier.feature_importances_\n",
    "print(\"Feature Importances:\")\n",
    "feature_importance_df=pd.DataFrame()\n",
    "for feature, importance in zip(feature_names, feature_importances):\n",
    "    feature_importance_df=feature_importance_df.append({'Feature': feature, 'Importance': importance}, ignore_index=True)\n",
    "    print(f\"{feature}: {importance}\")"
   ]
  },
  {
   "cell_type": "markdown",
   "metadata": {},
   "source": [
    "ploting heatmap on top 8 important features from the random forest model"
   ]
  },
  {
   "cell_type": "code",
   "execution_count": 64,
   "metadata": {},
   "outputs": [
    {
     "data": {
      "image/png": "[encoded data removed]",
      "text/plain": [
       "<Figure size 720x576 with 2 Axes>"
      ]
     },
     "metadata": {
      "needs_background": "light"
     },
     "output_type": "display_data"
    }
   ],
   "source": [
    "\n",
    "feature_importance_df = feature_importance_df.sort_values(by='Importance', ascending=False)\n",
    "top_features_df = feature_importance_df.head(8)\n",
    "\n",
    "plt.figure(figsize=(10, 8))\n",
    "sns.heatmap(data=top_features_df[['Importance']], annot=True, cmap='cividis', fmt=\".3f\", linewidths=.5, yticklabels=top_features_df['Feature'])\n",
    "plt.title('Top 8 Feature Importances from High to Low')\n",
    "plt.show()\n"
   ]
  },
  {
   "cell_type": "markdown",
   "metadata": {},
   "source": [
    "## Decision tree"
   ]
  },
  {
   "cell_type": "code",
   "execution_count": 76,
   "metadata": {},
   "outputs": [
    {
     "data": {
      "text/plain": [
       "Pipeline(steps=[('colt',\n",
       "                 ColumnTransformer(n_jobs=-1, remainder='passthrough',\n",
       "                                   transformers=[('nums',\n",
       "                                                  Pipeline(steps=[('num_impute',\n",
       "                                                                   SimpleImputer(add_indicator=True,\n",
       "                                                                                 strategy='median')),\n",
       "                                                                  ('ss',\n",
       "                                                                   StandardScaler())]),\n",
       "                                                  ['amount_tsh', 'gps_height',\n",
       "                                                   'longitude', 'latitude',\n",
       "                                                   'num_private', 'population',\n",
       "                                                   'public_meeting', 'permit',\n",
       "                                                   'age_waterpoint']),\n",
       "                                                 ('cats',\n",
       "                                                  Pipeline(step...\n",
       "                                                                  ('ohe',\n",
       "                                                                   OneHotEncoder(handle_unknown='ignore'))]),\n",
       "                                                  ['funder', 'basin',\n",
       "                                                   'region_code',\n",
       "                                                   'district_code', 'lga',\n",
       "                                                   'extraction_type',\n",
       "                                                   'extraction_type_class',\n",
       "                                                   'management', 'payment_type',\n",
       "                                                   'water_quality', 'quantity',\n",
       "                                                   'source', 'source_class',\n",
       "                                                   'waterpoint_type'])])),\n",
       "                ('dt',\n",
       "                 DecisionTreeClassifier(class_weight='balanced', max_depth=15,\n",
       "                                        min_samples_leaf=6, random_state=42))])"
      ]
     },
     "execution_count": 76,
     "metadata": {},
     "output_type": "execute_result"
    }
   ],
   "source": [
    "dt_classifier = DecisionTreeClassifier(\n",
    "    class_weight='balanced',\n",
    "    max_depth=10,\n",
    "    min_samples_split=6,\n",
    "    min_samples_leaf=4,\n",
    "    random_state=42\n",
    ")\n",
    "\n",
    "dt_pipe = Pipeline([\n",
    "    ('colt', col_trans),\n",
    "    ('dt', dt_classifier)\n",
    "])\n",
    "\n",
    "dt_pipe.fit(X_train, y_train)"
   ]
  },
  {
   "cell_type": "code",
   "execution_count": 78,
   "metadata": {},
   "outputs": [
    {
     "data": {
      "text/plain": [
       "(0.691047789993269, 0.6605843055140094)"
      ]
     },
     "execution_count": 78,
     "metadata": {},
     "output_type": "execute_result"
    }
   ],
   "source": [
    "dt_pipe.score(X_train , y_train) , dt_pipe.score(X_test , y_test)"
   ]
  },
  {
   "cell_type": "code",
   "execution_count": 77,
   "metadata": {
    "scrolled": false
   },
   "outputs": [
    {
     "name": "stdout",
     "output_type": "stream",
     "text": [
      "              precision    recall  f1-score   support\n",
      "\n",
      "           0       0.80      0.66      0.73      5523\n",
      "           1       0.21      0.72      0.32       686\n",
      "           2       0.81      0.64      0.72      3820\n",
      "\n",
      "    accuracy                           0.66     10029\n",
      "   macro avg       0.61      0.68      0.59     10029\n",
      "weighted avg       0.76      0.66      0.69     10029\n",
      "\n"
     ]
    }
   ],
   "source": [
    "y_test_pred2=dt_pipe.predict(X_test)\n",
    "print(classification_report(y_test, y_test_pred2)) "
   ]
  },
  {
   "cell_type": "markdown",
   "metadata": {},
   "source": [
    "### Grid search for decision tree"
   ]
  },
  {
   "cell_type": "code",
   "execution_count": 75,
   "metadata": {},
   "outputs": [
    {
     "name": "stdout",
     "output_type": "stream",
     "text": [
      "Best Hyperparameters: {'dt__max_depth': 15, 'dt__min_samples_leaf': 6, 'dt__min_samples_split': 2}\n"
     ]
    },
    {
     "data": {
      "text/plain": [
       "Pipeline(steps=[('colt',\n",
       "                 ColumnTransformer(n_jobs=-1, remainder='passthrough',\n",
       "                                   transformers=[('nums',\n",
       "                                                  Pipeline(steps=[('num_impute',\n",
       "                                                                   SimpleImputer(add_indicator=True,\n",
       "                                                                                 strategy='median')),\n",
       "                                                                  ('ss',\n",
       "                                                                   StandardScaler())]),\n",
       "                                                  ['amount_tsh', 'gps_height',\n",
       "                                                   'longitude', 'latitude',\n",
       "                                                   'num_private', 'population',\n",
       "                                                   'public_meeting', 'permit',\n",
       "                                                   'age_waterpoint']),\n",
       "                                                 ('cats',\n",
       "                                                  Pipeline(step...\n",
       "                                                                  ('ohe',\n",
       "                                                                   OneHotEncoder(handle_unknown='ignore'))]),\n",
       "                                                  ['funder', 'basin',\n",
       "                                                   'region_code',\n",
       "                                                   'district_code', 'lga',\n",
       "                                                   'extraction_type',\n",
       "                                                   'extraction_type_class',\n",
       "                                                   'management', 'payment_type',\n",
       "                                                   'water_quality', 'quantity',\n",
       "                                                   'source', 'source_class',\n",
       "                                                   'waterpoint_type'])])),\n",
       "                ('dt',\n",
       "                 DecisionTreeClassifier(class_weight='balanced', max_depth=15,\n",
       "                                        min_samples_leaf=6, random_state=42))])"
      ]
     },
     "execution_count": 75,
     "metadata": {},
     "output_type": "execute_result"
    }
   ],
   "source": [
    "param_grid = {\n",
    "    'dt__max_depth': [5, 10, 15],\n",
    "    'dt__min_samples_split': [2, 4, 6],\n",
    "    'dt__min_samples_leaf': [2, 4, 6]\n",
    "}\n",
    "\n",
    "grid_search = GridSearchCV(\n",
    "    estimator=dt_pipe,\n",
    "    param_grid=param_grid,\n",
    "    scoring='recall_macro',  \n",
    "    cv=5,  \n",
    "    n_jobs=-1 \n",
    ")\n",
    "\n",
    "grid_search.fit(X_train, y_train)\n",
    "\n",
    "print(\"Best Hyperparameters:\", grid_search.best_params_)\n",
    "\n",
    "best_dt_model = grid_search.best_estimator_\n",
    "best_dt_model.fit(X_train, y_train)\n"
   ]
  },
  {
   "cell_type": "markdown",
   "metadata": {},
   "source": [
    "changing the hyperparameter for the best hyperparameter choosen by the grid search"
   ]
  },
  {
   "cell_type": "code",
   "execution_count": 80,
   "metadata": {},
   "outputs": [
    {
     "data": {
      "text/plain": [
       "Pipeline(steps=[('colt',\n",
       "                 ColumnTransformer(n_jobs=-1, remainder='passthrough',\n",
       "                                   transformers=[('nums',\n",
       "                                                  Pipeline(steps=[('num_impute',\n",
       "                                                                   SimpleImputer(add_indicator=True,\n",
       "                                                                                 strategy='median')),\n",
       "                                                                  ('ss',\n",
       "                                                                   StandardScaler())]),\n",
       "                                                  ['amount_tsh', 'gps_height',\n",
       "                                                   'longitude', 'latitude',\n",
       "                                                   'num_private', 'population',\n",
       "                                                   'public_meeting', 'permit',\n",
       "                                                   'age_waterpoint']),\n",
       "                                                 ('cats',\n",
       "                                                  Pipeline(step...\n",
       "                                                                  ('ohe',\n",
       "                                                                   OneHotEncoder(handle_unknown='ignore'))]),\n",
       "                                                  ['funder', 'basin',\n",
       "                                                   'region_code',\n",
       "                                                   'district_code', 'lga',\n",
       "                                                   'extraction_type',\n",
       "                                                   'extraction_type_class',\n",
       "                                                   'management', 'payment_type',\n",
       "                                                   'water_quality', 'quantity',\n",
       "                                                   'source', 'source_class',\n",
       "                                                   'waterpoint_type'])])),\n",
       "                ('dt',\n",
       "                 DecisionTreeClassifier(class_weight='balanced', max_depth=15,\n",
       "                                        min_samples_leaf=6, random_state=42))])"
      ]
     },
     "execution_count": 80,
     "metadata": {},
     "output_type": "execute_result"
    }
   ],
   "source": [
    "dt_classifier = DecisionTreeClassifier(\n",
    "    class_weight='balanced',\n",
    "    max_depth=15,\n",
    "    min_samples_split=2,\n",
    "    min_samples_leaf=6,\n",
    "    random_state=42\n",
    ")\n",
    "\n",
    "dt_pipe2 = Pipeline([\n",
    "    ('colt', col_trans),\n",
    "    ('dt', dt_classifier)\n",
    "])\n",
    "\n",
    "dt_pipe2.fit(X_train, y_train)"
   ]
  },
  {
   "cell_type": "markdown",
   "metadata": {},
   "source": []
  },
  {
   "cell_type": "code",
   "execution_count": 82,
   "metadata": {},
   "outputs": [
    {
     "data": {
      "text/plain": [
       "(0.691047789993269, 0.6605843055140094)"
      ]
     },
     "execution_count": 82,
     "metadata": {},
     "output_type": "execute_result"
    }
   ],
   "source": [
    "dt_pipe2.score(X_train , y_train) , dt_pipe2.score(X_test , y_test)"
   ]
  },
  {
   "cell_type": "code",
   "execution_count": 81,
   "metadata": {},
   "outputs": [
    {
     "name": "stdout",
     "output_type": "stream",
     "text": [
      "              precision    recall  f1-score   support\n",
      "\n",
      "           0       0.80      0.66      0.73      5523\n",
      "           1       0.21      0.72      0.32       686\n",
      "           2       0.81      0.64      0.72      3820\n",
      "\n",
      "    accuracy                           0.66     10029\n",
      "   macro avg       0.61      0.68      0.59     10029\n",
      "weighted avg       0.76      0.66      0.69     10029\n",
      "\n"
     ]
    }
   ],
   "source": [
    "y_test_pred2=dt_pipe2.predict(X_test)\n",
    "print(classification_report(y_test, y_test_pred2)) "
   ]
  },
  {
   "cell_type": "markdown",
   "metadata": {},
   "source": [
    "### KNN\n"
   ]
  },
  {
   "cell_type": "code",
   "execution_count": 70,
   "metadata": {},
   "outputs": [
    {
     "data": {
      "text/plain": [
       "Pipeline(steps=[('colt',\n",
       "                 ColumnTransformer(n_jobs=-1, remainder='passthrough',\n",
       "                                   transformers=[('nums',\n",
       "                                                  Pipeline(steps=[('num_impute',\n",
       "                                                                   SimpleImputer(add_indicator=True,\n",
       "                                                                                 strategy='median')),\n",
       "                                                                  ('ss',\n",
       "                                                                   StandardScaler())]),\n",
       "                                                  ['amount_tsh', 'gps_height',\n",
       "                                                   'longitude', 'latitude',\n",
       "                                                   'num_private', 'population',\n",
       "                                                   'public_meeting', 'permit',\n",
       "                                                   'age_waterpoint']),\n",
       "                                                 ('cats',\n",
       "                                                  Pipeline(steps=[('impute_cat',\n",
       "                                                                   SimpleImputer(strategy='most_frequent')),\n",
       "                                                                  ('ohe',\n",
       "                                                                   OneHotEncoder(handle_unknown='ignore'))]),\n",
       "                                                  ['funder', 'basin',\n",
       "                                                   'region_code',\n",
       "                                                   'district_code', 'lga',\n",
       "                                                   'extraction_type',\n",
       "                                                   'extraction_type_class',\n",
       "                                                   'management', 'payment_type',\n",
       "                                                   'water_quality', 'quantity',\n",
       "                                                   'source', 'source_class',\n",
       "                                                   'waterpoint_type'])])),\n",
       "                ('knn', KNeighborsClassifier())])"
      ]
     },
     "execution_count": 70,
     "metadata": {},
     "output_type": "execute_result"
    }
   ],
   "source": [
    "knn_pipe = Pipeline([\n",
    "    ('colt', col_trans),\n",
    "    ('knn', KNeighborsClassifier(n_neighbors=5))\n",
    "])\n",
    "\n",
    "knn_pipe.fit(X_train, y_train)\n"
   ]
  },
  {
   "cell_type": "code",
   "execution_count": 71,
   "metadata": {},
   "outputs": [
    {
     "data": {
      "text/plain": [
       "0.8397776282003341"
      ]
     },
     "execution_count": 71,
     "metadata": {},
     "output_type": "execute_result"
    }
   ],
   "source": [
    "knn_pipe.score(X_train , y_train)"
   ]
  },
  {
   "cell_type": "code",
   "execution_count": 72,
   "metadata": {},
   "outputs": [
    {
     "name": "stdout",
     "output_type": "stream",
     "text": [
      "              precision    recall  f1-score   support\n",
      "\n",
      "           0       0.78      0.87      0.82      5523\n",
      "           1       0.51      0.30      0.38       686\n",
      "           2       0.80      0.73      0.76      3820\n",
      "\n",
      "    accuracy                           0.78     10029\n",
      "   macro avg       0.70      0.63      0.65     10029\n",
      "weighted avg       0.77      0.78      0.77     10029\n",
      "\n"
     ]
    }
   ],
   "source": [
    "y_test_pred2=knn_pipe.predict(X_test)\n",
    "print(classification_report(y_test, y_test_pred2)) "
   ]
  },
  {
   "cell_type": "markdown",
   "metadata": {},
   "source": [
    "#### addining class balance weight to KNN"
   ]
  },
  {
   "cell_type": "code",
   "execution_count": 73,
   "metadata": {},
   "outputs": [
    {
     "data": {
      "text/plain": [
       "Pipeline(steps=[('colt',\n",
       "                 ColumnTransformer(n_jobs=-1, remainder='passthrough',\n",
       "                                   transformers=[('nums',\n",
       "                                                  Pipeline(steps=[('num_impute',\n",
       "                                                                   SimpleImputer(add_indicator=True,\n",
       "                                                                                 strategy='median')),\n",
       "                                                                  ('ss',\n",
       "                                                                   StandardScaler())]),\n",
       "                                                  ['amount_tsh', 'gps_height',\n",
       "                                                   'longitude', 'latitude',\n",
       "                                                   'num_private', 'population',\n",
       "                                                   'public_meeting', 'permit',\n",
       "                                                   'age_waterpoint']),\n",
       "                                                 ('cats',\n",
       "                                                  Pipeline(step...\n",
       "                                                                   SimpleImputer(strategy='most_frequent')),\n",
       "                                                                  ('ohe',\n",
       "                                                                   OneHotEncoder(handle_unknown='ignore'))]),\n",
       "                                                  ['funder', 'basin',\n",
       "                                                   'region_code',\n",
       "                                                   'district_code', 'lga',\n",
       "                                                   'extraction_type',\n",
       "                                                   'extraction_type_class',\n",
       "                                                   'management', 'payment_type',\n",
       "                                                   'water_quality', 'quantity',\n",
       "                                                   'source', 'source_class',\n",
       "                                                   'waterpoint_type'])])),\n",
       "                ('knn',\n",
       "                 KNeighborsClassifier(n_neighbors=6, weights='distance'))])"
      ]
     },
     "execution_count": 73,
     "metadata": {},
     "output_type": "execute_result"
    }
   ],
   "source": [
    "knn_pipe2 = Pipeline([\n",
    "    ('colt', col_trans),\n",
    "    ('knn', KNeighborsClassifier(n_neighbors=6,weights='distance'))\n",
    "])\n",
    "\n",
    "knn_pipe2.fit(X_train, y_train)\n"
   ]
  },
  {
   "cell_type": "code",
   "execution_count": 74,
   "metadata": {},
   "outputs": [
    {
     "name": "stdout",
     "output_type": "stream",
     "text": [
      "              precision    recall  f1-score   support\n",
      "\n",
      "           0       0.80      0.85      0.82      5523\n",
      "           1       0.47      0.34      0.40       686\n",
      "           2       0.79      0.76      0.78      3820\n",
      "\n",
      "    accuracy                           0.78     10029\n",
      "   macro avg       0.69      0.65      0.67     10029\n",
      "weighted avg       0.78      0.78      0.78     10029\n",
      "\n"
     ]
    }
   ],
   "source": [
    "y_test_pred2=knn_pipe2.predict(X_test)\n",
    "print(classification_report(y_test, y_test_pred2)) "
   ]
  },
  {
   "cell_type": "markdown",
   "metadata": {},
   "source": [
    "### KNN with smote"
   ]
  },
  {
   "cell_type": "code",
   "execution_count": 86,
   "metadata": {},
   "outputs": [
    {
     "data": {
      "text/plain": [
       "Pipeline(steps=[('colt',\n",
       "                 ColumnTransformer(n_jobs=-1, remainder='passthrough',\n",
       "                                   transformers=[('nums',\n",
       "                                                  Pipeline(steps=[('num_impute',\n",
       "                                                                   SimpleImputer(add_indicator=True,\n",
       "                                                                                 strategy='median')),\n",
       "                                                                  ('ss',\n",
       "                                                                   StandardScaler())]),\n",
       "                                                  ['amount_tsh', 'gps_height',\n",
       "                                                   'longitude', 'latitude',\n",
       "                                                   'num_private', 'population',\n",
       "                                                   'public_meeting', 'permit',\n",
       "                                                   'age_waterpoint']),\n",
       "                                                 ('cats',\n",
       "                                                  Pipeline(step...\n",
       "                                                                   SimpleImputer(strategy='most_frequent')),\n",
       "                                                                  ('ohe',\n",
       "                                                                   OneHotEncoder(handle_unknown='ignore'))]),\n",
       "                                                  ['funder', 'basin',\n",
       "                                                   'region_code',\n",
       "                                                   'district_code', 'lga',\n",
       "                                                   'extraction_type',\n",
       "                                                   'extraction_type_class',\n",
       "                                                   'management', 'payment_type',\n",
       "                                                   'water_quality', 'quantity',\n",
       "                                                   'source', 'source_class',\n",
       "                                                   'waterpoint_type'])])),\n",
       "                ('smote', SMOTE(random_state=42)),\n",
       "                ('knn', KNeighborsClassifier(weights='distance'))])"
      ]
     },
     "execution_count": 86,
     "metadata": {},
     "output_type": "execute_result"
    }
   ],
   "source": [
    "from imblearn.pipeline import Pipeline\n",
    "knn_pipe_with_smote = Pipeline([\n",
    "    ('colt', col_trans),\n",
    "    ('smote', SMOTE(random_state=42)),\n",
    "    ('knn', KNeighborsClassifier(n_neighbors=5, weights='distance'))  # Adjust n_neighbors and weights as needed\n",
    "])\n",
    "knn_pipe_with_smote.fit(X_train, y_train)"
   ]
  },
  {
   "cell_type": "code",
   "execution_count": 87,
   "metadata": {},
   "outputs": [
    {
     "data": {
      "text/plain": [
       "(1.0, 0.746036494166916)"
      ]
     },
     "execution_count": 87,
     "metadata": {},
     "output_type": "execute_result"
    }
   ],
   "source": [
    "knn_pipe_with_smote.score(X_train , y_train) , knn_pipe_with_smote.score(X_test , y_test)"
   ]
  },
  {
   "cell_type": "code",
   "execution_count": 88,
   "metadata": {},
   "outputs": [
    {
     "name": "stdout",
     "output_type": "stream",
     "text": [
      "              precision    recall  f1-score   support\n",
      "\n",
      "           0       0.83      0.76      0.79      5523\n",
      "           1       0.31      0.54      0.40       686\n",
      "           2       0.77      0.76      0.77      3820\n",
      "\n",
      "    accuracy                           0.75     10029\n",
      "   macro avg       0.64      0.69      0.65     10029\n",
      "weighted avg       0.77      0.75      0.76     10029\n",
      "\n"
     ]
    }
   ],
   "source": [
    "y_test_pred2=knn_pipe_with_smote.predict(X_test)\n",
    "print(classification_report(y_test, y_test_pred2)) "
   ]
  },
  {
   "cell_type": "code",
   "execution_count": 97,
   "metadata": {},
   "outputs": [],
   "source": [
    "results = {\n",
    "    'Logistic Regression': cross_validate_pipelines(logreg_model4 , X_test , y_test),\n",
    "    'Random Forest': cross_validate_pipelines(randomF_model, X_test , y_test),\n",
    "    'Decision Tree': cross_validate_pipelines(dt_pipe2 , X_test , y_test),\n",
    "    'KNN': cross_validate_pipelines(knn_pipe2, X_test , y_test)\n",
    "}"
   ]
  },
  {
   "cell_type": "code",
   "execution_count": 98,
   "metadata": {},
   "outputs": [
    {
     "data": {
      "text/plain": [
       "{'Logistic Regression': 0.6158098957495801,\n",
       " 'Random Forest': 0.6652383382271119,\n",
       " 'Decision Tree': 0.620303577971482,\n",
       " 'KNN': 0.583294180399043}"
      ]
     },
     "execution_count": 98,
     "metadata": {},
     "output_type": "execute_result"
    }
   ],
   "source": [
    "results"
   ]
  },
  {
   "cell_type": "code",
   "execution_count": 99,
   "metadata": {
    "scrolled": true
   },
   "outputs": [
    {
     "data": {
      "image/png": "[encoded data removed]",
      "text/plain": [
       "<Figure size 720x432 with 1 Axes>"
      ]
     },
     "metadata": {
      "needs_background": "light"
     },
     "output_type": "display_data"
    }
   ],
   "source": [
    "fig, ax = plt.subplots(figsize=(10, 6))\n",
    "\n",
    "colors = ['#c7dfeb', '#494373', '#9ebbd7', '#7d92bf']\n",
    "plt.bar(results.keys(), results.values(), color=colors)\n",
    "plt.xlabel('Models')\n",
    "plt.ylabel('Cross-validation Score')\n",
    "plt.title('Cross-validation Score Comparison for Different Models')\n",
    "plt.xticks(rotation=45, ha=\"right\")\n",
    "\n",
    "plt.show()\n"
   ]
  },
  {
   "cell_type": "markdown",
   "metadata": {},
   "source": [
    "# conclusion "
   ]
  },
  {
   "cell_type": "markdown",
   "metadata": {},
   "source": [
    "Our winning model is random foresr classification where it caches up well for the dysfunctional of the well."
   ]
  },
  {
   "cell_type": "code",
   "execution_count": 100,
   "metadata": {},
   "outputs": [
    {
     "name": "stdout",
     "output_type": "stream",
     "text": [
      "              precision    recall  f1-score   support\n",
      "\n",
      "           0       0.84      0.72      0.77      5523\n",
      "           1       0.27      0.73      0.40       686\n",
      "           2       0.81      0.73      0.77      3820\n",
      "\n",
      "    accuracy                           0.72     10029\n",
      "   macro avg       0.64      0.73      0.65     10029\n",
      "weighted avg       0.79      0.72      0.75     10029\n",
      "\n"
     ]
    }
   ],
   "source": [
    "y_test_pred=randomF_model.predict(X_test)\n",
    "print(classification_report(y_test, y_test_pred))"
   ]
  },
  {
   "cell_type": "markdown",
   "metadata": {},
   "source": [
    "### Functional 72%\n",
    "### None Functional 73%\n",
    "### Functional needs repair 73% \n",
    "\n",
    "### with overall score of 72%"
   ]
  },
  {
   "cell_type": "markdown",
   "metadata": {},
   "source": [
    "# Recommendation 1"
   ]
  },
  {
   "cell_type": "markdown",
   "metadata": {},
   "source": [
    "Enhance the impact of our initiative, we strongly recommend active community involvement and dedicated efforts toward raising awareness. Engaging with local communities is pivotal for the success of any project aiming to address water-related challenges. Establishing partnerships with community leaders, organizations, and local influencers will foster a sense of ownership and shared responsibility. \n"
   ]
  },
  {
   "cell_type": "code",
   "execution_count": 102,
   "metadata": {},
   "outputs": [
    {
     "data": {
      "image/png": "[encoded data removed]",
      "text/plain": [
       "<Figure size 432x288 with 1 Axes>"
      ]
     },
     "metadata": {
      "needs_background": "light"
     },
     "output_type": "display_data"
    }
   ],
   "source": [
    "ax = sns.countplot(x='management', hue='status_group', data=features)\n",
    "ax.set_xticklabels(ax.get_xticklabels(), rotation='vertical')\n",
    "ax.set_xlabel('Management')  # Use set_xlabel instead of plt.xlabel\n",
    "ax.set_ylabel('Schemes')      # Use set_ylabel instead of plt.ylabel\n",
    "ax.set_title('Scheme Management Vs Functionality', fontsize=12, fontweight='bold');"
   ]
  },
  {
   "cell_type": "markdown",
   "metadata": {},
   "source": [
    "# Recommendation 2"
   ]
  },
  {
   "cell_type": "markdown",
   "metadata": {},
   "source": [
    "Establishing a comprehensive preventive maintenance program involves regular inspections, routine assessments, and timely repairs. This initiative not only addresses minor issues before they escalate but also extends the lifespan of the wells, reducing the likelihood of major breakdowns.\n"
   ]
  },
  {
   "cell_type": "code",
   "execution_count": 107,
   "metadata": {},
   "outputs": [
    {
     "data": {
      "image/png": "[encoded data removed]",
      "text/plain": [
       "<IPython.core.display.Image object>"
      ]
     },
     "metadata": {},
     "output_type": "display_data"
    }
   ],
   "source": [
    "from IPython.display import Image, display\n",
    "img_path = '../Images/age.PNG' \n",
    "img = Image(filename=img_path)\n",
    "display(img)"
   ]
  },
  {
   "cell_type": "markdown",
   "metadata": {},
   "source": [
    "# Recommendation 3"
   ]
  },
  {
   "cell_type": "markdown",
   "metadata": {},
   "source": [
    "Our third recommendation emphasizes the adoption and implementation of a predictive model that exhibits commendable recall scores across all classes. This model, boasting a recall score of 72% for the \"Functional\" class, 73% for the \"Non-Functional\" class, and another 73% for the \"Functional Needs Repair\" class, demonstrates its effectiveness in correctly identifying and classifying instances within each category. A high recall score signifies the model's capability to capture a significant portion of the true positive cases, minimizing the chances of overlooking critical issues. By embracing this model, we can enhance our ability to identify and address water pump functionality concerns promptly.\n"
   ]
  },
  {
   "cell_type": "code",
   "execution_count": 108,
   "metadata": {},
   "outputs": [
    {
     "name": "stdout",
     "output_type": "stream",
     "text": [
      "              precision    recall  f1-score   support\n",
      "\n",
      "           0       0.84      0.72      0.77      5523\n",
      "           1       0.27      0.73      0.40       686\n",
      "           2       0.81      0.73      0.77      3820\n",
      "\n",
      "    accuracy                           0.72     10029\n",
      "   macro avg       0.64      0.73      0.65     10029\n",
      "weighted avg       0.79      0.72      0.75     10029\n",
      "\n"
     ]
    }
   ],
   "source": [
    "y_test_pred=randomF_model.predict(X_test)\n",
    "print(classification_report(y_test, y_test_pred))"
   ]
  },
  {
   "cell_type": "markdown",
   "metadata": {},
   "source": [
    "# Next steps"
   ]
  },
  {
   "attachments": {},
   "cell_type": "markdown",
   "metadata": {},
   "source": [
    "- Improve model\n",
    "- Look into the depth of well\n",
    "- Geographical impacts"
   ]
  },
  {
   "cell_type": "code",
   "execution_count": null,
   "metadata": {},
   "outputs": [],
   "source": []
  }
 ],
 "metadata": {
  "kernelspec": {
   "display_name": "Python 3",
   "language": "python",
   "name": "python3"
  },
  "language_info": {
   "codemirror_mode": {
    "name": "ipython",
    "version": 3
   },
   "file_extension": ".py",
   "mimetype": "text/x-python",
   "name": "python",
   "nbconvert_exporter": "python",
   "pygments_lexer": "ipython3",
   "version": "3.8.5"
  }
 },
 "nbformat": 4,
 "nbformat_minor": 4
}
